{
 "cells": [
  {
   "cell_type": "markdown",
   "metadata": {},
   "source": [
    "# Piperazine Ring Conformation using RDKit\n",
    "> Examine ring conformation of piperazine built by RDKit ETKDG algorithm\n",
    "\n",
    "- toc: true \n",
    "- badges: true\n",
    "- comments: true\n",
    "- categories: [rdkit]"
   ]
  },
  {
   "cell_type": "markdown",
   "metadata": {},
   "source": [
    "# Motivation\n",
    "\n",
    "I noticed whenever I built 3D conformers of molecules containing piperazine (or cyclohexane) using RDKit, I tend to get a distorted ring conformation. RDKit's ETKDG (Experimental Torsion angle Knowledge-based Distance Geometry) algorithm works really well in general, but, in this case, it was not doing a good job at coming up with a reasonable initial conformation. I wanted to first quantify how much chair vs boat vs twisted conformer I get, so either I could use it to filter out non-desirable conformers or improve the RDKit's conformer generation routine. "
   ]
  },
  {
   "cell_type": "code",
   "execution_count": 1,
   "metadata": {},
   "outputs": [
    {
     "name": "stdout",
     "output_type": "stream",
     "text": [
      "2020.03.2\n"
     ]
    }
   ],
   "source": [
    "#collapse-hide\n",
    "%matplotlib inline\n",
    "import matplotlib.pyplot as plt\n",
    "\n",
    "from io import BytesIO\n",
    "import pandas as pd\n",
    "import numpy as np\n",
    "from rdkit.Chem import PandasTools\n",
    "\n",
    "from rdkit import Chem\n",
    "from rdkit.Chem import AllChem\n",
    "from rdkit.Chem import DataStructs\n",
    "from rdkit.Chem import rdMolDescriptors\n",
    "from rdkit.Chem import rdRGroupDecomposition\n",
    "\n",
    "from rdkit.Chem.Draw import IPythonConsole #Needed to show molecules\n",
    "from rdkit.Chem import Draw\n",
    "from rdkit.Chem import rdDepictor\n",
    "from rdkit.Chem.Draw import rdMolDraw2D\n",
    "from rdkit.Chem.Draw.MolDrawing import MolDrawing, DrawingOptions #Only needed if modifying defaults\n",
    "\n",
    "DrawingOptions.bondLineWidth=1.8\n",
    "IPythonConsole.ipython_useSVG=True\n",
    "from rdkit import RDLogger\n",
    "RDLogger.DisableLog('rdApp.warning')\n",
    "import rdkit\n",
    "import py3Dmol\n",
    "print(rdkit.__version__)"
   ]
  },
  {
   "cell_type": "markdown",
   "metadata": {},
   "source": [
    "# Ring conformation using ETKDG v1\n",
    "\n",
    "Let's make a piperazine molecule for testing. I put atom map in my SMILES, so I can refer them easily later."
   ]
  },
  {
   "cell_type": "code",
   "execution_count": 4,
   "metadata": {},
   "outputs": [
    {
     "data": {
      "image/png": "[encoded data removed]",
      "image/svg+xml": [
       "<?xml version='1.0' encoding='iso-8859-1'?>\n",
       "<svg version='1.1' baseProfile='full'\n",
       "              xmlns='http://www.w3.org/2000/svg'\n",
       "                      xmlns:rdkit='http://www.rdkit.org/xml'\n",
       "                      xmlns:xlink='http://www.w3.org/1999/xlink'\n",
       "                  xml:space='preserve'\n",
       "width='450px' height='150px' viewBox='0 0 450 150'>\n",
       "<!-- END OF HEADER -->\n",
       "<rect style='opacity:1.0;fill:#FFFFFF;stroke:none' width='450' height='150' x='0' y='0'> </rect>\n",
       "<path class='bond-0' d='M 290.179,86.0039 L 280.026,103.589' style='fill:none;fill-rule:evenodd;stroke:#0000FF;stroke-width:2px;stroke-linecap:butt;stroke-linejoin:miter;stroke-opacity:1' />\n",
       "<path class='bond-0' d='M 280.026,103.589 L 269.873,121.174' style='fill:none;fill-rule:evenodd;stroke:#000000;stroke-width:2px;stroke-linecap:butt;stroke-linejoin:miter;stroke-opacity:1' />\n",
       "<path class='bond-5' d='M 290.179,63.9961 L 280.026,46.411' style='fill:none;fill-rule:evenodd;stroke:#0000FF;stroke-width:2px;stroke-linecap:butt;stroke-linejoin:miter;stroke-opacity:1' />\n",
       "<path class='bond-5' d='M 280.026,46.411 L 269.873,28.826' style='fill:none;fill-rule:evenodd;stroke:#000000;stroke-width:2px;stroke-linecap:butt;stroke-linejoin:miter;stroke-opacity:1' />\n",
       "<path class='bond-1' d='M 242.966,132.178 L 218.052,132.178' style='fill:none;fill-rule:evenodd;stroke:#000000;stroke-width:2px;stroke-linecap:butt;stroke-linejoin:miter;stroke-opacity:1' />\n",
       "<path class='bond-2' d='M 191.144,121.174 L 180.991,103.589' style='fill:none;fill-rule:evenodd;stroke:#000000;stroke-width:2px;stroke-linecap:butt;stroke-linejoin:miter;stroke-opacity:1' />\n",
       "<path class='bond-2' d='M 180.991,103.589 L 170.838,86.0039' style='fill:none;fill-rule:evenodd;stroke:#0000FF;stroke-width:2px;stroke-linecap:butt;stroke-linejoin:miter;stroke-opacity:1' />\n",
       "<path class='bond-3' d='M 170.838,63.9961 L 180.991,46.411' style='fill:none;fill-rule:evenodd;stroke:#0000FF;stroke-width:2px;stroke-linecap:butt;stroke-linejoin:miter;stroke-opacity:1' />\n",
       "<path class='bond-3' d='M 180.991,46.411 L 191.144,28.826' style='fill:none;fill-rule:evenodd;stroke:#000000;stroke-width:2px;stroke-linecap:butt;stroke-linejoin:miter;stroke-opacity:1' />\n",
       "<path class='bond-4' d='M 218.052,17.8221 L 242.966,17.8221' style='fill:none;fill-rule:evenodd;stroke:#000000;stroke-width:2px;stroke-linecap:butt;stroke-linejoin:miter;stroke-opacity:1' />\n",
       "<text dominant-baseline=\"central\" text-anchor=\"start\" x='278.178' y='78.3012' style='font-size:22px;font-style:normal;font-weight:normal;fill-opacity:1;stroke:none;font-family:sans-serif;fill:#0000FF' ><tspan>N:4H</tspan></text>\n",
       "<text dominant-baseline=\"central\" text-anchor=\"start\" x='245.166' y='135.479' style='font-size:22px;font-style:normal;font-weight:normal;fill-opacity:1;stroke:none;font-family:sans-serif;fill:#000000' ><tspan>C:3</tspan></text>\n",
       "<text dominant-baseline=\"central\" text-anchor=\"end\" x='215.851' y='135.479' style='font-size:22px;font-style:normal;font-weight:normal;fill-opacity:1;stroke:none;font-family:sans-serif;fill:#000000' ><tspan>C:2</tspan></text>\n",
       "<text dominant-baseline=\"central\" text-anchor=\"end\" x='182.839' y='78.3012' style='font-size:22px;font-style:normal;font-weight:normal;fill-opacity:1;stroke:none;font-family:sans-serif;fill:#0000FF' ><tspan>HN:1</tspan></text>\n",
       "<text dominant-baseline=\"central\" text-anchor=\"end\" x='215.851' y='21.1232' style='font-size:22px;font-style:normal;font-weight:normal;fill-opacity:1;stroke:none;font-family:sans-serif;fill:#000000' ><tspan>C:6</tspan></text>\n",
       "<text dominant-baseline=\"central\" text-anchor=\"start\" x='245.166' y='21.1232' style='font-size:22px;font-style:normal;font-weight:normal;fill-opacity:1;stroke:none;font-family:sans-serif;fill:#000000' ><tspan>C:5</tspan></text>\n",
       "</svg>\n"
      ],
      "text/plain": [
       "<rdkit.Chem.rdchem.Mol at 0x7fc2c8569940>"
      ]
     },
     "execution_count": 4,
     "metadata": {},
     "output_type": "execute_result"
    }
   ],
   "source": [
    "smiles = '[NH:4]1[CH2:3][CH2:2][NH:1][CH2:6][CH2:5]1'\n",
    "mol = Chem.MolFromSmiles(smiles)\n",
    "mol"
   ]
  },
  {
   "cell_type": "markdown",
   "metadata": {},
   "source": [
    "Let's use default parameter for embedding, which uses ETKDG version 1, and generate 500 conformers. "
   ]
  },
  {
   "cell_type": "code",
   "execution_count": 58,
   "metadata": {},
   "outputs": [],
   "source": [
    "# ETKDG v1 \n",
    "params = Chem.rdDistGeom.EmbedParameters()\n",
    "params.randomSeed = 0xf00d\n",
    "params.clearConfs = True\n",
    "\n",
    "mol_h = Chem.AddHs(mol)\n",
    "cids = AllChem.EmbedMultipleConfs(mol_h, numConfs=500, params=params)"
   ]
  },
  {
   "cell_type": "code",
   "execution_count": 59,
   "metadata": {},
   "outputs": [],
   "source": [
    "# atom mapping\n",
    "atoms = {a.GetAtomMapNum(): a.GetIdx() for a in mol.GetAtoms() if a.GetAtomMapNum() > 0}\n",
    "\n",
    "# torsion angle atom indices\n",
    "torsions = [\n",
    "    (atoms[1], atoms[2], atoms[3], atoms[4]),\n",
    "    (atoms[2], atoms[3], atoms[4], atoms[5]),\n",
    "    (atoms[3], atoms[4], atoms[5], atoms[6]),\n",
    "    (atoms[4], atoms[5], atoms[6], atoms[1]),\n",
    "    (atoms[5], atoms[6], atoms[1], atoms[2]),\n",
    "    (atoms[6], atoms[1], atoms[2], atoms[3]),\n",
    "]"
   ]
  },
  {
   "cell_type": "markdown",
   "metadata": {},
   "source": [
    "I'm going to define a simple check in chain vs boat vs twisted conformers of cyclohexane ring. If all six torsions are near +/- 60˚ (margin 30˚), it is considered a chair conformation. If two opposite torsions are close to 0˚ (margin 30˚) and the other remaining torsion angles are around +/- 60˚, then it is considered a boat conformation. The rest are considered as a twisted conformation."
   ]
  },
  {
   "cell_type": "code",
   "execution_count": 60,
   "metadata": {},
   "outputs": [],
   "source": [
    "def ring_conformers(mol):\n",
    "    angles = []\n",
    "    confs = []\n",
    "\n",
    "    for conf in mol.GetConformers():\n",
    "        angs = np.abs([Chem.rdMolTransforms.GetDihedralDeg(conf, *t) for t in torsions])\n",
    "        angles.append(angs)\n",
    "\n",
    "        if np.all(np.abs((angs - 60)/60) < 0.66): \n",
    "            confs.append('chair')\n",
    "        elif angs[0] < 30 and angs[3] < 30 and np.all(np.abs((angs[[1,3,4,5]] - 60)/60) < 0.5):\n",
    "            confs.append('boat')\n",
    "        elif angs[1] < 30 and angs[4] < 30 and np.all(np.abs((angs[[0,2,3,4]] - 60)/60) < 0.5):\n",
    "            confs.append('boat')        \n",
    "        elif angs[2] < 30 and angs[5] < 30 and np.all(np.abs((angs[[0,1,3,4]] - 60)/60) < 0.5):\n",
    "            confs.append('boat')        \n",
    "        else:\n",
    "            confs.append('twisted')\n",
    "    return confs"
   ]
  },
  {
   "cell_type": "code",
   "execution_count": 61,
   "metadata": {},
   "outputs": [
    {
     "data": {
      "text/plain": [
       "Counter({'chair': 254, 'twisted': 228, 'boat': 18})"
      ]
     },
     "execution_count": 61,
     "metadata": {},
     "output_type": "execute_result"
    }
   ],
   "source": [
    "from collections import Counter\n",
    "confs = ring_conformers(mol_h)\n",
    "Counter(confs)"
   ]
  },
  {
   "cell_type": "markdown",
   "metadata": {},
   "source": [
    "So, I got 203 chair (40%), 18 boat (4%), and 279 twisted (56%) conformers. Let's take a look at some conformers and make sure we got the right conformers. First chair conformation."
   ]
  },
  {
   "cell_type": "code",
   "execution_count": 62,
   "metadata": {},
   "outputs": [
    {
     "data": {
      "application/3dmoljs_load.v0": "<div id=\"3dmolviewer_1614271378361099\"  style=\"position: relative; width: 300px; height: 300px\">\n        <p id=\"3dmolwarning_1614271378361099\" style=\"background-color:#ffcccc;color:black\">You appear to be running in JupyterLab (or JavaScript failed to load for some other reason).  You need to install the 3dmol extension: <br>\n        <tt>jupyter labextension install jupyterlab_3dmol</tt></p>\n        </div>\n<script>\n\nvar loadScriptAsync = function(uri){\n  return new Promise((resolve, reject) => {\n    var tag = document.createElement('script');\n    tag.src = uri;\n    tag.async = true;\n    tag.onload = () => {\n      resolve();\n    };\n  var firstScriptTag = document.getElementsByTagName('script')[0];\n  firstScriptTag.parentNode.insertBefore(tag, firstScriptTag);\n});\n};\n\nif(typeof $3Dmolpromise === 'undefined') {\n$3Dmolpromise = null;\n  $3Dmolpromise = loadScriptAsync('https://3dmol.org/build/3Dmol.js');\n}\n\nvar viewer_1614271378361099 = null;\nvar warn = document.getElementById(\"3dmolwarning_1614271378361099\");\nif(warn) {\n    warn.parentNode.removeChild(warn);\n}\n$3Dmolpromise.then(function() {\nviewer_1614271378361099 = $3Dmol.createViewer($(\"#3dmolviewer_1614271378361099\"),{backgroundColor:\"white\"});\nviewer_1614271378361099.zoomTo();\n\tviewer_1614271378361099.addModel(\"\\n     RDKit          3D\\n\\n 16 16  0  0  0  0  0  0  0  0999 V2000\\n    0.5787    1.2521   -0.2556 N   0  0  0  0  0  0  0  0  0  4  0  0\\n   -0.8261    1.0704   -0.3613 C   0  0  0  0  0  0  0  0  0  3  0  0\\n   -1.3138   -0.3332   -0.3523 C   0  0  0  0  0  0  0  0  0  2  0  0\\n   -0.4859   -1.2815    0.3237 N   0  0  0  0  0  0  0  0  0  1  0  0\\n    0.9237   -1.0937    0.1359 C   0  0  0  0  0  0  0  0  0  6  0  0\\n    1.2729    0.3102    0.5592 C   0  0  0  0  0  0  0  0  0  5  0  0\\n    1.0703    1.5643   -1.1052 H   0  0  0  0  0  0  0  0  0  0  0  0\\n   -1.1617    1.5421   -1.3157 H   0  0  0  0  0  0  0  0  0  0  0  0\\n   -1.3314    1.6390    0.4542 H   0  0  0  0  0  0  0  0  0  0  0  0\\n   -2.3198   -0.3781    0.1371 H   0  0  0  0  0  0  0  0  0  0  0  0\\n   -1.4879   -0.7113   -1.3919 H   0  0  0  0  0  0  0  0  0  0  0  0\\n   -0.7786   -1.4844    1.2910 H   0  0  0  0  0  0  0  0  0  0  0  0\\n    1.1383   -1.1799   -0.9526 H   0  0  0  0  0  0  0  0  0  0  0  0\\n    1.4377   -1.8721    0.7264 H   0  0  0  0  0  0  0  0  0  0  0  0\\n    2.3534    0.5059    0.4919 H   0  0  0  0  0  0  0  0  0  0  0  0\\n    0.9302    0.4502    1.6152 H   0  0  0  0  0  0  0  0  0  0  0  0\\n  1  2  1  0\\n  2  3  1  0\\n  3  4  1  0\\n  4  5  1  0\\n  5  6  1  0\\n  6  1  1  0\\n  1  7  1  0\\n  2  8  1  0\\n  2  9  1  0\\n  3 10  1  0\\n  3 11  1  0\\n  4 12  1  0\\n  5 13  1  0\\n  5 14  1  0\\n  6 15  1  0\\n  6 16  1  0\\nM  END\\n\",\"mol\");\n\tviewer_1614271378361099.setStyle({\"stick\": {}});\n\tviewer_1614271378361099.zoomTo();\nviewer_1614271378361099.render();\n});\n</script>",
      "text/html": [
       "<div id=\"3dmolviewer_1614271378361099\"  style=\"position: relative; width: 300px; height: 300px\">\n",
       "        <p id=\"3dmolwarning_1614271378361099\" style=\"background-color:#ffcccc;color:black\">You appear to be running in JupyterLab (or JavaScript failed to load for some other reason).  You need to install the 3dmol extension: <br>\n",
       "        <tt>jupyter labextension install jupyterlab_3dmol</tt></p>\n",
       "        </div>\n",
       "<script>\n",
       "\n",
       "var loadScriptAsync = function(uri){\n",
       "  return new Promise((resolve, reject) => {\n",
       "    var tag = document.createElement('script');\n",
       "    tag.src = uri;\n",
       "    tag.async = true;\n",
       "    tag.onload = () => {\n",
       "      resolve();\n",
       "    };\n",
       "  var firstScriptTag = document.getElementsByTagName('script')[0];\n",
       "  firstScriptTag.parentNode.insertBefore(tag, firstScriptTag);\n",
       "});\n",
       "};\n",
       "\n",
       "if(typeof $3Dmolpromise === 'undefined') {\n",
       "$3Dmolpromise = null;\n",
       "  $3Dmolpromise = loadScriptAsync('https://3dmol.org/build/3Dmol.js');\n",
       "}\n",
       "\n",
       "var viewer_1614271378361099 = null;\n",
       "var warn = document.getElementById(\"3dmolwarning_1614271378361099\");\n",
       "if(warn) {\n",
       "    warn.parentNode.removeChild(warn);\n",
       "}\n",
       "$3Dmolpromise.then(function() {\n",
       "viewer_1614271378361099 = $3Dmol.createViewer($(\"#3dmolviewer_1614271378361099\"),{backgroundColor:\"white\"});\n",
       "viewer_1614271378361099.zoomTo();\n",
       "\tviewer_1614271378361099.addModel(\"\\n     RDKit          3D\\n\\n 16 16  0  0  0  0  0  0  0  0999 V2000\\n    0.5787    1.2521   -0.2556 N   0  0  0  0  0  0  0  0  0  4  0  0\\n   -0.8261    1.0704   -0.3613 C   0  0  0  0  0  0  0  0  0  3  0  0\\n   -1.3138   -0.3332   -0.3523 C   0  0  0  0  0  0  0  0  0  2  0  0\\n   -0.4859   -1.2815    0.3237 N   0  0  0  0  0  0  0  0  0  1  0  0\\n    0.9237   -1.0937    0.1359 C   0  0  0  0  0  0  0  0  0  6  0  0\\n    1.2729    0.3102    0.5592 C   0  0  0  0  0  0  0  0  0  5  0  0\\n    1.0703    1.5643   -1.1052 H   0  0  0  0  0  0  0  0  0  0  0  0\\n   -1.1617    1.5421   -1.3157 H   0  0  0  0  0  0  0  0  0  0  0  0\\n   -1.3314    1.6390    0.4542 H   0  0  0  0  0  0  0  0  0  0  0  0\\n   -2.3198   -0.3781    0.1371 H   0  0  0  0  0  0  0  0  0  0  0  0\\n   -1.4879   -0.7113   -1.3919 H   0  0  0  0  0  0  0  0  0  0  0  0\\n   -0.7786   -1.4844    1.2910 H   0  0  0  0  0  0  0  0  0  0  0  0\\n    1.1383   -1.1799   -0.9526 H   0  0  0  0  0  0  0  0  0  0  0  0\\n    1.4377   -1.8721    0.7264 H   0  0  0  0  0  0  0  0  0  0  0  0\\n    2.3534    0.5059    0.4919 H   0  0  0  0  0  0  0  0  0  0  0  0\\n    0.9302    0.4502    1.6152 H   0  0  0  0  0  0  0  0  0  0  0  0\\n  1  2  1  0\\n  2  3  1  0\\n  3  4  1  0\\n  4  5  1  0\\n  5  6  1  0\\n  6  1  1  0\\n  1  7  1  0\\n  2  8  1  0\\n  2  9  1  0\\n  3 10  1  0\\n  3 11  1  0\\n  4 12  1  0\\n  5 13  1  0\\n  5 14  1  0\\n  6 15  1  0\\n  6 16  1  0\\nM  END\\n\",\"mol\");\n",
       "\tviewer_1614271378361099.setStyle({\"stick\": {}});\n",
       "\tviewer_1614271378361099.zoomTo();\n",
       "viewer_1614271378361099.render();\n",
       "});\n",
       "</script>"
      ]
     },
     "metadata": {},
     "output_type": "display_data"
    }
   ],
   "source": [
    "#collapse-hide\n",
    "from random import shuffle\n",
    "conf_idx = [i for i, c in enumerate(confs) if c == 'chair']\n",
    "shuffle(conf_idx)\n",
    "\n",
    "viewer = py3Dmol.view(width=300, height=300)\n",
    "viewer.addModel(Chem.MolToMolBlock(mol_h, confId=conf_idx[0]), 'mol')\n",
    "viewer.setStyle({\"stick\":{}})\n",
    "viewer.zoomTo()\n",
    "viewer.show()"
   ]
  },
  {
   "cell_type": "markdown",
   "metadata": {},
   "source": [
    "And a boat conformation:"
   ]
  },
  {
   "cell_type": "code",
   "execution_count": 63,
   "metadata": {},
   "outputs": [
    {
     "data": {
      "application/3dmoljs_load.v0": "<div id=\"3dmolviewer_1614271378786311\"  style=\"position: relative; width: 300px; height: 300px\">\n        <p id=\"3dmolwarning_1614271378786311\" style=\"background-color:#ffcccc;color:black\">You appear to be running in JupyterLab (or JavaScript failed to load for some other reason).  You need to install the 3dmol extension: <br>\n        <tt>jupyter labextension install jupyterlab_3dmol</tt></p>\n        </div>\n<script>\n\nvar loadScriptAsync = function(uri){\n  return new Promise((resolve, reject) => {\n    var tag = document.createElement('script');\n    tag.src = uri;\n    tag.async = true;\n    tag.onload = () => {\n      resolve();\n    };\n  var firstScriptTag = document.getElementsByTagName('script')[0];\n  firstScriptTag.parentNode.insertBefore(tag, firstScriptTag);\n});\n};\n\nif(typeof $3Dmolpromise === 'undefined') {\n$3Dmolpromise = null;\n  $3Dmolpromise = loadScriptAsync('https://3dmol.org/build/3Dmol.js');\n}\n\nvar viewer_1614271378786311 = null;\nvar warn = document.getElementById(\"3dmolwarning_1614271378786311\");\nif(warn) {\n    warn.parentNode.removeChild(warn);\n}\n$3Dmolpromise.then(function() {\nviewer_1614271378786311 = $3Dmol.createViewer($(\"#3dmolviewer_1614271378786311\"),{backgroundColor:\"white\"});\nviewer_1614271378786311.zoomTo();\n\tviewer_1614271378786311.addModel(\"\\n     RDKit          3D\\n\\n 16 16  0  0  0  0  0  0  0  0999 V2000\\n   -0.1872    1.0562   -0.8723 N   0  0  0  0  0  0  0  0  0  4  0  0\\n   -1.1658    0.6935    0.0920 C   0  0  0  0  0  0  0  0  0  3  0  0\\n   -1.1428   -0.7745    0.4744 C   0  0  0  0  0  0  0  0  0  2  0  0\\n    0.1930   -1.3155    0.5136 N   0  0  0  0  0  0  0  0  0  1  0  0\\n    1.2055   -0.2889    0.6241 C   0  0  0  0  0  0  0  0  0  6  0  0\\n    1.1278    0.5452   -0.6507 C   0  0  0  0  0  0  0  0  0  5  0  0\\n   -0.4942    1.1247   -1.8470 H   0  0  0  0  0  0  0  0  0  0  0  0\\n   -0.9715    1.3022    1.0087 H   0  0  0  0  0  0  0  0  0  0  0  0\\n   -2.1700    0.9447   -0.2933 H   0  0  0  0  0  0  0  0  0  0  0  0\\n   -1.7553   -1.3334   -0.2625 H   0  0  0  0  0  0  0  0  0  0  0  0\\n   -1.6182   -0.8891    1.4798 H   0  0  0  0  0  0  0  0  0  0  0  0\\n    0.4068   -1.8665   -0.3524 H   0  0  0  0  0  0  0  0  0  0  0  0\\n    1.1201    0.3212    1.5306 H   0  0  0  0  0  0  0  0  0  0  0  0\\n    2.1832   -0.8068    0.6063 H   0  0  0  0  0  0  0  0  0  0  0  0\\n    1.4572   -0.1433   -1.4650 H   0  0  0  0  0  0  0  0  0  0  0  0\\n    1.8114    1.4303   -0.5861 H   0  0  0  0  0  0  0  0  0  0  0  0\\n  1  2  1  0\\n  2  3  1  0\\n  3  4  1  0\\n  4  5  1  0\\n  5  6  1  0\\n  6  1  1  0\\n  1  7  1  0\\n  2  8  1  0\\n  2  9  1  0\\n  3 10  1  0\\n  3 11  1  0\\n  4 12  1  0\\n  5 13  1  0\\n  5 14  1  0\\n  6 15  1  0\\n  6 16  1  0\\nM  END\\n\",\"mol\");\n\tviewer_1614271378786311.setStyle({\"stick\": {}});\n\tviewer_1614271378786311.zoomTo();\nviewer_1614271378786311.render();\n});\n</script>",
      "text/html": [
       "<div id=\"3dmolviewer_1614271378786311\"  style=\"position: relative; width: 300px; height: 300px\">\n",
       "        <p id=\"3dmolwarning_1614271378786311\" style=\"background-color:#ffcccc;color:black\">You appear to be running in JupyterLab (or JavaScript failed to load for some other reason).  You need to install the 3dmol extension: <br>\n",
       "        <tt>jupyter labextension install jupyterlab_3dmol</tt></p>\n",
       "        </div>\n",
       "<script>\n",
       "\n",
       "var loadScriptAsync = function(uri){\n",
       "  return new Promise((resolve, reject) => {\n",
       "    var tag = document.createElement('script');\n",
       "    tag.src = uri;\n",
       "    tag.async = true;\n",
       "    tag.onload = () => {\n",
       "      resolve();\n",
       "    };\n",
       "  var firstScriptTag = document.getElementsByTagName('script')[0];\n",
       "  firstScriptTag.parentNode.insertBefore(tag, firstScriptTag);\n",
       "});\n",
       "};\n",
       "\n",
       "if(typeof $3Dmolpromise === 'undefined') {\n",
       "$3Dmolpromise = null;\n",
       "  $3Dmolpromise = loadScriptAsync('https://3dmol.org/build/3Dmol.js');\n",
       "}\n",
       "\n",
       "var viewer_1614271378786311 = null;\n",
       "var warn = document.getElementById(\"3dmolwarning_1614271378786311\");\n",
       "if(warn) {\n",
       "    warn.parentNode.removeChild(warn);\n",
       "}\n",
       "$3Dmolpromise.then(function() {\n",
       "viewer_1614271378786311 = $3Dmol.createViewer($(\"#3dmolviewer_1614271378786311\"),{backgroundColor:\"white\"});\n",
       "viewer_1614271378786311.zoomTo();\n",
       "\tviewer_1614271378786311.addModel(\"\\n     RDKit          3D\\n\\n 16 16  0  0  0  0  0  0  0  0999 V2000\\n   -0.1872    1.0562   -0.8723 N   0  0  0  0  0  0  0  0  0  4  0  0\\n   -1.1658    0.6935    0.0920 C   0  0  0  0  0  0  0  0  0  3  0  0\\n   -1.1428   -0.7745    0.4744 C   0  0  0  0  0  0  0  0  0  2  0  0\\n    0.1930   -1.3155    0.5136 N   0  0  0  0  0  0  0  0  0  1  0  0\\n    1.2055   -0.2889    0.6241 C   0  0  0  0  0  0  0  0  0  6  0  0\\n    1.1278    0.5452   -0.6507 C   0  0  0  0  0  0  0  0  0  5  0  0\\n   -0.4942    1.1247   -1.8470 H   0  0  0  0  0  0  0  0  0  0  0  0\\n   -0.9715    1.3022    1.0087 H   0  0  0  0  0  0  0  0  0  0  0  0\\n   -2.1700    0.9447   -0.2933 H   0  0  0  0  0  0  0  0  0  0  0  0\\n   -1.7553   -1.3334   -0.2625 H   0  0  0  0  0  0  0  0  0  0  0  0\\n   -1.6182   -0.8891    1.4798 H   0  0  0  0  0  0  0  0  0  0  0  0\\n    0.4068   -1.8665   -0.3524 H   0  0  0  0  0  0  0  0  0  0  0  0\\n    1.1201    0.3212    1.5306 H   0  0  0  0  0  0  0  0  0  0  0  0\\n    2.1832   -0.8068    0.6063 H   0  0  0  0  0  0  0  0  0  0  0  0\\n    1.4572   -0.1433   -1.4650 H   0  0  0  0  0  0  0  0  0  0  0  0\\n    1.8114    1.4303   -0.5861 H   0  0  0  0  0  0  0  0  0  0  0  0\\n  1  2  1  0\\n  2  3  1  0\\n  3  4  1  0\\n  4  5  1  0\\n  5  6  1  0\\n  6  1  1  0\\n  1  7  1  0\\n  2  8  1  0\\n  2  9  1  0\\n  3 10  1  0\\n  3 11  1  0\\n  4 12  1  0\\n  5 13  1  0\\n  5 14  1  0\\n  6 15  1  0\\n  6 16  1  0\\nM  END\\n\",\"mol\");\n",
       "\tviewer_1614271378786311.setStyle({\"stick\": {}});\n",
       "\tviewer_1614271378786311.zoomTo();\n",
       "viewer_1614271378786311.render();\n",
       "});\n",
       "</script>"
      ]
     },
     "metadata": {},
     "output_type": "display_data"
    }
   ],
   "source": [
    "#collapse-hide\n",
    "from random import shuffle\n",
    "conf_idx = [i for i, c in enumerate(confs) if c == 'boat']\n",
    "shuffle(conf_idx)\n",
    "\n",
    "viewer = py3Dmol.view(width=300, height=300)\n",
    "viewer.addModel(Chem.MolToMolBlock(mol_h, confId=conf_idx[0]), 'mol')\n",
    "viewer.setStyle({\"stick\":{}})\n",
    "viewer.zoomTo()\n",
    "viewer.show()"
   ]
  },
  {
   "cell_type": "markdown",
   "metadata": {},
   "source": [
    "And finally a twisted conformation:"
   ]
  },
  {
   "cell_type": "code",
   "execution_count": 64,
   "metadata": {},
   "outputs": [
    {
     "data": {
      "application/3dmoljs_load.v0": "<div id=\"3dmolviewer_16142713792520692\"  style=\"position: relative; width: 300px; height: 300px\">\n        <p id=\"3dmolwarning_16142713792520692\" style=\"background-color:#ffcccc;color:black\">You appear to be running in JupyterLab (or JavaScript failed to load for some other reason).  You need to install the 3dmol extension: <br>\n        <tt>jupyter labextension install jupyterlab_3dmol</tt></p>\n        </div>\n<script>\n\nvar loadScriptAsync = function(uri){\n  return new Promise((resolve, reject) => {\n    var tag = document.createElement('script');\n    tag.src = uri;\n    tag.async = true;\n    tag.onload = () => {\n      resolve();\n    };\n  var firstScriptTag = document.getElementsByTagName('script')[0];\n  firstScriptTag.parentNode.insertBefore(tag, firstScriptTag);\n});\n};\n\nif(typeof $3Dmolpromise === 'undefined') {\n$3Dmolpromise = null;\n  $3Dmolpromise = loadScriptAsync('https://3dmol.org/build/3Dmol.js');\n}\n\nvar viewer_16142713792520692 = null;\nvar warn = document.getElementById(\"3dmolwarning_16142713792520692\");\nif(warn) {\n    warn.parentNode.removeChild(warn);\n}\n$3Dmolpromise.then(function() {\nviewer_16142713792520692 = $3Dmol.createViewer($(\"#3dmolviewer_16142713792520692\"),{backgroundColor:\"white\"});\nviewer_16142713792520692.zoomTo();\n\tviewer_16142713792520692.addModel(\"\\n     RDKit          3D\\n\\n 16 16  0  0  0  0  0  0  0  0999 V2000\\n   -0.8524    1.0080    0.3628 N   0  0  0  0  0  0  0  0  0  4  0  0\\n    0.5283    1.2630    0.2299 C   0  0  0  0  0  0  0  0  0  3  0  0\\n    1.4284    0.0876    0.0513 C   0  0  0  0  0  0  0  0  0  2  0  0\\n    0.8013   -0.9134   -0.7634 N   0  0  0  0  0  0  0  0  0  1  0  0\\n   -0.3927   -1.3695   -0.0990 C   0  0  0  0  0  0  0  0  0  6  0  0\\n   -1.3615   -0.2264   -0.0968 C   0  0  0  0  0  0  0  0  0  5  0  0\\n   -1.2873    1.3398    1.2572 H   0  0  0  0  0  0  0  0  0  0  0  0\\n    0.8557    1.7919    1.1619 H   0  0  0  0  0  0  0  0  0  0  0  0\\n    0.7324    1.9825   -0.6034 H   0  0  0  0  0  0  0  0  0  0  0  0\\n    2.3374    0.4219   -0.5144 H   0  0  0  0  0  0  0  0  0  0  0  0\\n    1.8256   -0.2857    1.0075 H   0  0  0  0  0  0  0  0  0  0  0  0\\n    0.4773   -0.4279   -1.6417 H   0  0  0  0  0  0  0  0  0  0  0  0\\n   -0.8355   -2.1766   -0.7358 H   0  0  0  0  0  0  0  0  0  0  0  0\\n   -0.2238   -1.7715    0.9107 H   0  0  0  0  0  0  0  0  0  0  0  0\\n   -1.8353   -0.1933   -1.1106 H   0  0  0  0  0  0  0  0  0  0  0  0\\n   -2.1980   -0.5302    0.5839 H   0  0  0  0  0  0  0  0  0  0  0  0\\n  1  2  1  0\\n  2  3  1  0\\n  3  4  1  0\\n  4  5  1  0\\n  5  6  1  0\\n  6  1  1  0\\n  1  7  1  0\\n  2  8  1  0\\n  2  9  1  0\\n  3 10  1  0\\n  3 11  1  0\\n  4 12  1  0\\n  5 13  1  0\\n  5 14  1  0\\n  6 15  1  0\\n  6 16  1  0\\nM  END\\n\",\"mol\");\n\tviewer_16142713792520692.setStyle({\"stick\": {}});\n\tviewer_16142713792520692.zoomTo();\nviewer_16142713792520692.render();\n});\n</script>",
      "text/html": [
       "<div id=\"3dmolviewer_16142713792520692\"  style=\"position: relative; width: 300px; height: 300px\">\n",
       "        <p id=\"3dmolwarning_16142713792520692\" style=\"background-color:#ffcccc;color:black\">You appear to be running in JupyterLab (or JavaScript failed to load for some other reason).  You need to install the 3dmol extension: <br>\n",
       "        <tt>jupyter labextension install jupyterlab_3dmol</tt></p>\n",
       "        </div>\n",
       "<script>\n",
       "\n",
       "var loadScriptAsync = function(uri){\n",
       "  return new Promise((resolve, reject) => {\n",
       "    var tag = document.createElement('script');\n",
       "    tag.src = uri;\n",
       "    tag.async = true;\n",
       "    tag.onload = () => {\n",
       "      resolve();\n",
       "    };\n",
       "  var firstScriptTag = document.getElementsByTagName('script')[0];\n",
       "  firstScriptTag.parentNode.insertBefore(tag, firstScriptTag);\n",
       "});\n",
       "};\n",
       "\n",
       "if(typeof $3Dmolpromise === 'undefined') {\n",
       "$3Dmolpromise = null;\n",
       "  $3Dmolpromise = loadScriptAsync('https://3dmol.org/build/3Dmol.js');\n",
       "}\n",
       "\n",
       "var viewer_16142713792520692 = null;\n",
       "var warn = document.getElementById(\"3dmolwarning_16142713792520692\");\n",
       "if(warn) {\n",
       "    warn.parentNode.removeChild(warn);\n",
       "}\n",
       "$3Dmolpromise.then(function() {\n",
       "viewer_16142713792520692 = $3Dmol.createViewer($(\"#3dmolviewer_16142713792520692\"),{backgroundColor:\"white\"});\n",
       "viewer_16142713792520692.zoomTo();\n",
       "\tviewer_16142713792520692.addModel(\"\\n     RDKit          3D\\n\\n 16 16  0  0  0  0  0  0  0  0999 V2000\\n   -0.8524    1.0080    0.3628 N   0  0  0  0  0  0  0  0  0  4  0  0\\n    0.5283    1.2630    0.2299 C   0  0  0  0  0  0  0  0  0  3  0  0\\n    1.4284    0.0876    0.0513 C   0  0  0  0  0  0  0  0  0  2  0  0\\n    0.8013   -0.9134   -0.7634 N   0  0  0  0  0  0  0  0  0  1  0  0\\n   -0.3927   -1.3695   -0.0990 C   0  0  0  0  0  0  0  0  0  6  0  0\\n   -1.3615   -0.2264   -0.0968 C   0  0  0  0  0  0  0  0  0  5  0  0\\n   -1.2873    1.3398    1.2572 H   0  0  0  0  0  0  0  0  0  0  0  0\\n    0.8557    1.7919    1.1619 H   0  0  0  0  0  0  0  0  0  0  0  0\\n    0.7324    1.9825   -0.6034 H   0  0  0  0  0  0  0  0  0  0  0  0\\n    2.3374    0.4219   -0.5144 H   0  0  0  0  0  0  0  0  0  0  0  0\\n    1.8256   -0.2857    1.0075 H   0  0  0  0  0  0  0  0  0  0  0  0\\n    0.4773   -0.4279   -1.6417 H   0  0  0  0  0  0  0  0  0  0  0  0\\n   -0.8355   -2.1766   -0.7358 H   0  0  0  0  0  0  0  0  0  0  0  0\\n   -0.2238   -1.7715    0.9107 H   0  0  0  0  0  0  0  0  0  0  0  0\\n   -1.8353   -0.1933   -1.1106 H   0  0  0  0  0  0  0  0  0  0  0  0\\n   -2.1980   -0.5302    0.5839 H   0  0  0  0  0  0  0  0  0  0  0  0\\n  1  2  1  0\\n  2  3  1  0\\n  3  4  1  0\\n  4  5  1  0\\n  5  6  1  0\\n  6  1  1  0\\n  1  7  1  0\\n  2  8  1  0\\n  2  9  1  0\\n  3 10  1  0\\n  3 11  1  0\\n  4 12  1  0\\n  5 13  1  0\\n  5 14  1  0\\n  6 15  1  0\\n  6 16  1  0\\nM  END\\n\",\"mol\");\n",
       "\tviewer_16142713792520692.setStyle({\"stick\": {}});\n",
       "\tviewer_16142713792520692.zoomTo();\n",
       "viewer_16142713792520692.render();\n",
       "});\n",
       "</script>"
      ]
     },
     "metadata": {},
     "output_type": "display_data"
    }
   ],
   "source": [
    "#collapse-hide\n",
    "from random import shuffle\n",
    "conf_idx = [i for i, c in enumerate(confs) if c == 'twisted']\n",
    "shuffle(conf_idx)\n",
    "\n",
    "viewer = py3Dmol.view(width=300, height=300)\n",
    "viewer.addModel(Chem.MolToMolBlock(mol_h, confId=conf_idx[0]), 'mol')\n",
    "viewer.setStyle({\"stick\":{}})\n",
    "viewer.zoomTo()\n",
    "viewer.show()"
   ]
  },
  {
   "cell_type": "markdown",
   "metadata": {},
   "source": [
    "# Optimize Geometry using MMFF\n",
    "\n",
    "Optimizing the Geometry using MMFF does the number of chair conformations and reduces twisted conformers."
   ]
  },
  {
   "cell_type": "code",
   "execution_count": 65,
   "metadata": {},
   "outputs": [],
   "source": [
    "for conf in mol_h.GetConformers():\n",
    "    AllChem.MMFFOptimizeMolecule(mol_h, confId=conf.GetId())"
   ]
  },
  {
   "cell_type": "code",
   "execution_count": 66,
   "metadata": {},
   "outputs": [
    {
     "data": {
      "text/plain": [
       "Counter({'chair': 366, 'twisted': 131, 'boat': 3})"
      ]
     },
     "execution_count": 66,
     "metadata": {},
     "output_type": "execute_result"
    }
   ],
   "source": [
    "confs = ring_conformers(mol_h)\n",
    "Counter(confs)"
   ]
  },
  {
   "cell_type": "markdown",
   "metadata": {},
   "source": [
    "Still about 50% of the conformers remain in the twisted conformation. "
   ]
  },
  {
   "cell_type": "code",
   "execution_count": 67,
   "metadata": {},
   "outputs": [
    {
     "data": {
      "application/3dmoljs_load.v0": "<div id=\"3dmolviewer_1614271381899932\"  style=\"position: relative; width: 300px; height: 300px\">\n        <p id=\"3dmolwarning_1614271381899932\" style=\"background-color:#ffcccc;color:black\">You appear to be running in JupyterLab (or JavaScript failed to load for some other reason).  You need to install the 3dmol extension: <br>\n        <tt>jupyter labextension install jupyterlab_3dmol</tt></p>\n        </div>\n<script>\n\nvar loadScriptAsync = function(uri){\n  return new Promise((resolve, reject) => {\n    var tag = document.createElement('script');\n    tag.src = uri;\n    tag.async = true;\n    tag.onload = () => {\n      resolve();\n    };\n  var firstScriptTag = document.getElementsByTagName('script')[0];\n  firstScriptTag.parentNode.insertBefore(tag, firstScriptTag);\n});\n};\n\nif(typeof $3Dmolpromise === 'undefined') {\n$3Dmolpromise = null;\n  $3Dmolpromise = loadScriptAsync('https://3dmol.org/build/3Dmol.js');\n}\n\nvar viewer_1614271381899932 = null;\nvar warn = document.getElementById(\"3dmolwarning_1614271381899932\");\nif(warn) {\n    warn.parentNode.removeChild(warn);\n}\n$3Dmolpromise.then(function() {\nviewer_1614271381899932 = $3Dmol.createViewer($(\"#3dmolviewer_1614271381899932\"),{backgroundColor:\"white\"});\nviewer_1614271381899932.zoomTo();\n\tviewer_1614271381899932.addModel(\"\\n     RDKit          3D\\n\\n 16 16  0  0  0  0  0  0  0  0999 V2000\\n   -0.8463   -1.0366   -0.5659 N   0  0  0  0  0  0  0  0  0  4  0  0\\n    0.3349   -1.3425    0.2591 C   0  0  0  0  0  0  0  0  0  3  0  0\\n    1.4251   -0.2449    0.1839 C   0  0  0  0  0  0  0  0  0  2  0  0\\n    0.9408    1.0721   -0.2765 N   0  0  0  0  0  0  0  0  0  1  0  0\\n   -0.3964    1.3194    0.2893 C   0  0  0  0  0  0  0  0  0  6  0  0\\n   -1.4327    0.2420   -0.1162 C   0  0  0  0  0  0  0  0  0  5  0  0\\n   -0.5220   -0.9091   -1.5244 H   0  0  0  0  0  0  0  0  0  0  0  0\\n    0.0152   -1.4754    1.3003 H   0  0  0  0  0  0  0  0  0  0  0  0\\n    0.7582   -2.3002   -0.0635 H   0  0  0  0  0  0  0  0  0  0  0  0\\n    1.8929   -0.1323    1.1689 H   0  0  0  0  0  0  0  0  0  0  0  0\\n    2.2158   -0.5659   -0.5043 H   0  0  0  0  0  0  0  0  0  0  0  0\\n    0.8378    1.0278   -1.2902 H   0  0  0  0  0  0  0  0  0  0  0  0\\n   -0.7468    2.3045   -0.0381 H   0  0  0  0  0  0  0  0  0  0  0  0\\n   -0.3163    1.3623    1.3828 H   0  0  0  0  0  0  0  0  0  0  0  0\\n   -2.0545    0.6265   -0.9332 H   0  0  0  0  0  0  0  0  0  0  0  0\\n   -2.1057    0.0524    0.7281 H   0  0  0  0  0  0  0  0  0  0  0  0\\n  1  2  1  0\\n  2  3  1  0\\n  3  4  1  0\\n  4  5  1  0\\n  5  6  1  0\\n  6  1  1  0\\n  1  7  1  0\\n  2  8  1  0\\n  2  9  1  0\\n  3 10  1  0\\n  3 11  1  0\\n  4 12  1  0\\n  5 13  1  0\\n  5 14  1  0\\n  6 15  1  0\\n  6 16  1  0\\nM  END\\n\",\"mol\");\n\tviewer_1614271381899932.setStyle({\"stick\": {}});\n\tviewer_1614271381899932.zoomTo();\nviewer_1614271381899932.render();\n});\n</script>",
      "text/html": [
       "<div id=\"3dmolviewer_1614271381899932\"  style=\"position: relative; width: 300px; height: 300px\">\n",
       "        <p id=\"3dmolwarning_1614271381899932\" style=\"background-color:#ffcccc;color:black\">You appear to be running in JupyterLab (or JavaScript failed to load for some other reason).  You need to install the 3dmol extension: <br>\n",
       "        <tt>jupyter labextension install jupyterlab_3dmol</tt></p>\n",
       "        </div>\n",
       "<script>\n",
       "\n",
       "var loadScriptAsync = function(uri){\n",
       "  return new Promise((resolve, reject) => {\n",
       "    var tag = document.createElement('script');\n",
       "    tag.src = uri;\n",
       "    tag.async = true;\n",
       "    tag.onload = () => {\n",
       "      resolve();\n",
       "    };\n",
       "  var firstScriptTag = document.getElementsByTagName('script')[0];\n",
       "  firstScriptTag.parentNode.insertBefore(tag, firstScriptTag);\n",
       "});\n",
       "};\n",
       "\n",
       "if(typeof $3Dmolpromise === 'undefined') {\n",
       "$3Dmolpromise = null;\n",
       "  $3Dmolpromise = loadScriptAsync('https://3dmol.org/build/3Dmol.js');\n",
       "}\n",
       "\n",
       "var viewer_1614271381899932 = null;\n",
       "var warn = document.getElementById(\"3dmolwarning_1614271381899932\");\n",
       "if(warn) {\n",
       "    warn.parentNode.removeChild(warn);\n",
       "}\n",
       "$3Dmolpromise.then(function() {\n",
       "viewer_1614271381899932 = $3Dmol.createViewer($(\"#3dmolviewer_1614271381899932\"),{backgroundColor:\"white\"});\n",
       "viewer_1614271381899932.zoomTo();\n",
       "\tviewer_1614271381899932.addModel(\"\\n     RDKit          3D\\n\\n 16 16  0  0  0  0  0  0  0  0999 V2000\\n   -0.8463   -1.0366   -0.5659 N   0  0  0  0  0  0  0  0  0  4  0  0\\n    0.3349   -1.3425    0.2591 C   0  0  0  0  0  0  0  0  0  3  0  0\\n    1.4251   -0.2449    0.1839 C   0  0  0  0  0  0  0  0  0  2  0  0\\n    0.9408    1.0721   -0.2765 N   0  0  0  0  0  0  0  0  0  1  0  0\\n   -0.3964    1.3194    0.2893 C   0  0  0  0  0  0  0  0  0  6  0  0\\n   -1.4327    0.2420   -0.1162 C   0  0  0  0  0  0  0  0  0  5  0  0\\n   -0.5220   -0.9091   -1.5244 H   0  0  0  0  0  0  0  0  0  0  0  0\\n    0.0152   -1.4754    1.3003 H   0  0  0  0  0  0  0  0  0  0  0  0\\n    0.7582   -2.3002   -0.0635 H   0  0  0  0  0  0  0  0  0  0  0  0\\n    1.8929   -0.1323    1.1689 H   0  0  0  0  0  0  0  0  0  0  0  0\\n    2.2158   -0.5659   -0.5043 H   0  0  0  0  0  0  0  0  0  0  0  0\\n    0.8378    1.0278   -1.2902 H   0  0  0  0  0  0  0  0  0  0  0  0\\n   -0.7468    2.3045   -0.0381 H   0  0  0  0  0  0  0  0  0  0  0  0\\n   -0.3163    1.3623    1.3828 H   0  0  0  0  0  0  0  0  0  0  0  0\\n   -2.0545    0.6265   -0.9332 H   0  0  0  0  0  0  0  0  0  0  0  0\\n   -2.1057    0.0524    0.7281 H   0  0  0  0  0  0  0  0  0  0  0  0\\n  1  2  1  0\\n  2  3  1  0\\n  3  4  1  0\\n  4  5  1  0\\n  5  6  1  0\\n  6  1  1  0\\n  1  7  1  0\\n  2  8  1  0\\n  2  9  1  0\\n  3 10  1  0\\n  3 11  1  0\\n  4 12  1  0\\n  5 13  1  0\\n  5 14  1  0\\n  6 15  1  0\\n  6 16  1  0\\nM  END\\n\",\"mol\");\n",
       "\tviewer_1614271381899932.setStyle({\"stick\": {}});\n",
       "\tviewer_1614271381899932.zoomTo();\n",
       "viewer_1614271381899932.render();\n",
       "});\n",
       "</script>"
      ]
     },
     "metadata": {},
     "output_type": "display_data"
    }
   ],
   "source": [
    "#collapse-hide\n",
    "from random import shuffle\n",
    "conf_idx = [i for i, c in enumerate(confs) if c == 'twisted']\n",
    "shuffle(conf_idx)\n",
    "\n",
    "viewer = py3Dmol.view(width=300, height=300)\n",
    "viewer.addModel(Chem.MolToMolBlock(mol_h, confId=conf_idx[0]), 'mol')\n",
    "viewer.setStyle({\"stick\":{}})\n",
    "viewer.zoomTo()\n",
    "viewer.show()"
   ]
  },
  {
   "cell_type": "markdown",
   "metadata": {},
   "source": [
    "# ETKDG version 3\n",
    "\n",
    "I commented this issue on Greg's blog and was suggested to try ETKDG version 3 algorithm [[ref]](https://pubs.acs.org/doi/abs/10.1021/acs.jcim.0c00025). Here's the result.  "
   ]
  },
  {
   "cell_type": "code",
   "execution_count": 84,
   "metadata": {},
   "outputs": [],
   "source": [
    "# ETKDG v3\n",
    "params = Chem.rdDistGeom.srETKDGv3()\n",
    "params.randomSeed = 0xf00d\n",
    "params.clearConfs = True\n",
    "\n",
    "cids = AllChem.EmbedMultipleConfs(mol_h, numConfs=500, params=params)"
   ]
  },
  {
   "cell_type": "code",
   "execution_count": 85,
   "metadata": {},
   "outputs": [
    {
     "data": {
      "text/plain": [
       "Counter({'chair': 500})"
      ]
     },
     "execution_count": 85,
     "metadata": {},
     "output_type": "execute_result"
    }
   ],
   "source": [
    "confs = ring_conformers(mol_h)\n",
    "Counter(confs)"
   ]
  },
  {
   "cell_type": "markdown",
   "metadata": {},
   "source": [
    "All 500 chair conformation even without doing minimization! But strange things were happening when I actually looked at some conformers. It appears the torsion angle requirements are all satisfied, but the ring was actually very much twisted. "
   ]
  },
  {
   "cell_type": "code",
   "execution_count": 89,
   "metadata": {},
   "outputs": [
    {
     "data": {
      "application/3dmoljs_load.v0": "<div id=\"3dmolviewer_1614271664079911\"  style=\"position: relative; width: 300px; height: 300px\">\n        <p id=\"3dmolwarning_1614271664079911\" style=\"background-color:#ffcccc;color:black\">You appear to be running in JupyterLab (or JavaScript failed to load for some other reason).  You need to install the 3dmol extension: <br>\n        <tt>jupyter labextension install jupyterlab_3dmol</tt></p>\n        </div>\n<script>\n\nvar loadScriptAsync = function(uri){\n  return new Promise((resolve, reject) => {\n    var tag = document.createElement('script');\n    tag.src = uri;\n    tag.async = true;\n    tag.onload = () => {\n      resolve();\n    };\n  var firstScriptTag = document.getElementsByTagName('script')[0];\n  firstScriptTag.parentNode.insertBefore(tag, firstScriptTag);\n});\n};\n\nif(typeof $3Dmolpromise === 'undefined') {\n$3Dmolpromise = null;\n  $3Dmolpromise = loadScriptAsync('https://3dmol.org/build/3Dmol.js');\n}\n\nvar viewer_1614271664079911 = null;\nvar warn = document.getElementById(\"3dmolwarning_1614271664079911\");\nif(warn) {\n    warn.parentNode.removeChild(warn);\n}\n$3Dmolpromise.then(function() {\nviewer_1614271664079911 = $3Dmol.createViewer($(\"#3dmolviewer_1614271664079911\"),{backgroundColor:\"white\"});\nviewer_1614271664079911.zoomTo();\n\tviewer_1614271664079911.addModel(\"\\n     RDKit          3D\\n\\n 16 16  0  0  0  0  0  0  0  0999 V2000\\n    1.1082   -0.6574    0.9240 N   0  0  0  0  0  0  0  0  0  4  0  0\\n   -0.2033   -1.1517    0.3014 C   0  0  0  0  0  0  0  0  0  3  0  0\\n   -1.2516   -0.2508   -0.5310 C   0  0  0  0  0  0  0  0  0  2  0  0\\n   -1.1973    0.7254    0.4330 N   0  0  0  0  0  0  0  0  0  1  0  0\\n    0.2535    1.0904    0.0186 C   0  0  0  0  0  0  0  0  0  6  0  0\\n    1.4117   -0.0136   -0.2292 C   0  0  0  0  0  0  0  0  0  5  0  0\\n    0.9185   -0.2053    1.8106 H   0  0  0  0  0  0  0  0  0  0  0  0\\n   -0.7685   -1.6487    1.0923 H   0  0  0  0  0  0  0  0  0  0  0  0\\n    0.1199   -1.8787   -0.4400 H   0  0  0  0  0  0  0  0  0  0  0  0\\n   -0.8820   -0.1009   -1.5104 H   0  0  0  0  0  0  0  0  0  0  0  0\\n   -2.1258   -0.8797   -0.4896 H   0  0  0  0  0  0  0  0  0  0  0  0\\n   -1.6751    1.5939    0.1180 H   0  0  0  0  0  0  0  0  0  0  0  0\\n    0.6123    1.6403    0.8713 H   0  0  0  0  0  0  0  0  0  0  0  0\\n    0.1823    1.6110   -0.9146 H   0  0  0  0  0  0  0  0  0  0  0  0\\n    1.1708   -0.4650   -1.1699 H   0  0  0  0  0  0  0  0  0  0  0  0\\n    2.3264    0.5908   -0.2848 H   0  0  0  0  0  0  0  0  0  0  0  0\\n  1  2  1  0\\n  2  3  1  0\\n  3  4  1  0\\n  4  5  1  0\\n  5  6  1  0\\n  6  1  1  0\\n  1  7  1  0\\n  2  8  1  0\\n  2  9  1  0\\n  3 10  1  0\\n  3 11  1  0\\n  4 12  1  0\\n  5 13  1  0\\n  5 14  1  0\\n  6 15  1  0\\n  6 16  1  0\\nM  END\\n\",\"mol\");\n\tviewer_1614271664079911.setStyle({\"stick\": {}});\n\tviewer_1614271664079911.zoomTo();\nviewer_1614271664079911.render();\n});\n</script>",
      "text/html": [
       "<div id=\"3dmolviewer_1614271664079911\"  style=\"position: relative; width: 300px; height: 300px\">\n",
       "        <p id=\"3dmolwarning_1614271664079911\" style=\"background-color:#ffcccc;color:black\">You appear to be running in JupyterLab (or JavaScript failed to load for some other reason).  You need to install the 3dmol extension: <br>\n",
       "        <tt>jupyter labextension install jupyterlab_3dmol</tt></p>\n",
       "        </div>\n",
       "<script>\n",
       "\n",
       "var loadScriptAsync = function(uri){\n",
       "  return new Promise((resolve, reject) => {\n",
       "    var tag = document.createElement('script');\n",
       "    tag.src = uri;\n",
       "    tag.async = true;\n",
       "    tag.onload = () => {\n",
       "      resolve();\n",
       "    };\n",
       "  var firstScriptTag = document.getElementsByTagName('script')[0];\n",
       "  firstScriptTag.parentNode.insertBefore(tag, firstScriptTag);\n",
       "});\n",
       "};\n",
       "\n",
       "if(typeof $3Dmolpromise === 'undefined') {\n",
       "$3Dmolpromise = null;\n",
       "  $3Dmolpromise = loadScriptAsync('https://3dmol.org/build/3Dmol.js');\n",
       "}\n",
       "\n",
       "var viewer_1614271664079911 = null;\n",
       "var warn = document.getElementById(\"3dmolwarning_1614271664079911\");\n",
       "if(warn) {\n",
       "    warn.parentNode.removeChild(warn);\n",
       "}\n",
       "$3Dmolpromise.then(function() {\n",
       "viewer_1614271664079911 = $3Dmol.createViewer($(\"#3dmolviewer_1614271664079911\"),{backgroundColor:\"white\"});\n",
       "viewer_1614271664079911.zoomTo();\n",
       "\tviewer_1614271664079911.addModel(\"\\n     RDKit          3D\\n\\n 16 16  0  0  0  0  0  0  0  0999 V2000\\n    1.1082   -0.6574    0.9240 N   0  0  0  0  0  0  0  0  0  4  0  0\\n   -0.2033   -1.1517    0.3014 C   0  0  0  0  0  0  0  0  0  3  0  0\\n   -1.2516   -0.2508   -0.5310 C   0  0  0  0  0  0  0  0  0  2  0  0\\n   -1.1973    0.7254    0.4330 N   0  0  0  0  0  0  0  0  0  1  0  0\\n    0.2535    1.0904    0.0186 C   0  0  0  0  0  0  0  0  0  6  0  0\\n    1.4117   -0.0136   -0.2292 C   0  0  0  0  0  0  0  0  0  5  0  0\\n    0.9185   -0.2053    1.8106 H   0  0  0  0  0  0  0  0  0  0  0  0\\n   -0.7685   -1.6487    1.0923 H   0  0  0  0  0  0  0  0  0  0  0  0\\n    0.1199   -1.8787   -0.4400 H   0  0  0  0  0  0  0  0  0  0  0  0\\n   -0.8820   -0.1009   -1.5104 H   0  0  0  0  0  0  0  0  0  0  0  0\\n   -2.1258   -0.8797   -0.4896 H   0  0  0  0  0  0  0  0  0  0  0  0\\n   -1.6751    1.5939    0.1180 H   0  0  0  0  0  0  0  0  0  0  0  0\\n    0.6123    1.6403    0.8713 H   0  0  0  0  0  0  0  0  0  0  0  0\\n    0.1823    1.6110   -0.9146 H   0  0  0  0  0  0  0  0  0  0  0  0\\n    1.1708   -0.4650   -1.1699 H   0  0  0  0  0  0  0  0  0  0  0  0\\n    2.3264    0.5908   -0.2848 H   0  0  0  0  0  0  0  0  0  0  0  0\\n  1  2  1  0\\n  2  3  1  0\\n  3  4  1  0\\n  4  5  1  0\\n  5  6  1  0\\n  6  1  1  0\\n  1  7  1  0\\n  2  8  1  0\\n  2  9  1  0\\n  3 10  1  0\\n  3 11  1  0\\n  4 12  1  0\\n  5 13  1  0\\n  5 14  1  0\\n  6 15  1  0\\n  6 16  1  0\\nM  END\\n\",\"mol\");\n",
       "\tviewer_1614271664079911.setStyle({\"stick\": {}});\n",
       "\tviewer_1614271664079911.zoomTo();\n",
       "viewer_1614271664079911.render();\n",
       "});\n",
       "</script>"
      ]
     },
     "metadata": {},
     "output_type": "display_data"
    }
   ],
   "source": [
    "#collapse-hide\n",
    "from random import shuffle\n",
    "#conf_idx = [i for i, c in enumerate(confs) if c == 'chair']\n",
    "#shuffle(conf_idx)\n",
    "conf_idx = [443]\n",
    "\n",
    "viewer = py3Dmol.view(width=300, height=300)\n",
    "viewer.addModel(Chem.MolToMolBlock(mol_h, confId=conf_idx[0]), 'mol')\n",
    "viewer.setStyle({\"stick\":{}})\n",
    "viewer.zoomTo()\n",
    "viewer.show()"
   ]
  },
  {
   "cell_type": "code",
   "execution_count": 105,
   "metadata": {},
   "outputs": [
    {
     "name": "stdout",
     "output_type": "stream",
     "text": [
      "[-46.976379180669305, -46.49507991432351, 70.73380111873767, -47.28801834351138, -46.701253412582766, 70.21989187631925]\n"
     ]
    }
   ],
   "source": [
    "conf_idx = 443\n",
    "conf = mol_h.GetConformer(conf_idx)\n",
    "angs = [Chem.rdMolTransforms.GetDihedralDeg(conf, *t) for t in torsions]\n",
    "print(angs)"
   ]
  },
  {
   "cell_type": "markdown",
   "metadata": {},
   "source": [
    "In the six-membered ring, the signs of the torsion angle should alternate around positive and negative 60 degree. In my naive torsion angle check, I only checked if the absolute value of the torsion angles were around 60˚. However, in this case the torsion angles are arranged in around (-60, -60, +60, -60, -60, +60), which makes it twisted. Let's count how many of these are in our conformers. "
   ]
  },
  {
   "cell_type": "code",
   "execution_count": 125,
   "metadata": {},
   "outputs": [],
   "source": [
    "confs = []\n",
    "sums = []\n",
    "\n",
    "for conf in mol_h.GetConformers():\n",
    "    angs = np.array([Chem.rdMolTransforms.GetDihedralDeg(conf, *t) for t in torsions])\n",
    "    \n",
    "    # check if pos/neg values are alternating\n",
    "    signs = angs / np.abs(angs)\n",
    "    if np.sum(signs[1:] + signs[:-1]) == 0:\n",
    "        confs.append('chair')\n",
    "    else:\n",
    "        confs.append('twisted')"
   ]
  },
  {
   "cell_type": "code",
   "execution_count": 126,
   "metadata": {},
   "outputs": [
    {
     "data": {
      "text/plain": [
       "Counter({'chair': 358, 'twisted': 142})"
      ]
     },
     "execution_count": 126,
     "metadata": {},
     "output_type": "execute_result"
    }
   ],
   "source": [
    "Counter(confs)"
   ]
  },
  {
   "cell_type": "markdown",
   "metadata": {},
   "source": [
    "OK, so turns out, 358 (72%) of the conformers were actually in chair conformation and 142 (28%) of the conformers were in twisted conformers. Let's take a look at some of the chair and twisted conformers."
   ]
  },
  {
   "cell_type": "code",
   "execution_count": 127,
   "metadata": {},
   "outputs": [
    {
     "data": {
      "application/3dmoljs_load.v0": "<div id=\"3dmolviewer_1614273267872521\"  style=\"position: relative; width: 300px; height: 300px\">\n        <p id=\"3dmolwarning_1614273267872521\" style=\"background-color:#ffcccc;color:black\">You appear to be running in JupyterLab (or JavaScript failed to load for some other reason).  You need to install the 3dmol extension: <br>\n        <tt>jupyter labextension install jupyterlab_3dmol</tt></p>\n        </div>\n<script>\n\nvar loadScriptAsync = function(uri){\n  return new Promise((resolve, reject) => {\n    var tag = document.createElement('script');\n    tag.src = uri;\n    tag.async = true;\n    tag.onload = () => {\n      resolve();\n    };\n  var firstScriptTag = document.getElementsByTagName('script')[0];\n  firstScriptTag.parentNode.insertBefore(tag, firstScriptTag);\n});\n};\n\nif(typeof $3Dmolpromise === 'undefined') {\n$3Dmolpromise = null;\n  $3Dmolpromise = loadScriptAsync('https://3dmol.org/build/3Dmol.js');\n}\n\nvar viewer_1614273267872521 = null;\nvar warn = document.getElementById(\"3dmolwarning_1614273267872521\");\nif(warn) {\n    warn.parentNode.removeChild(warn);\n}\n$3Dmolpromise.then(function() {\nviewer_1614273267872521 = $3Dmol.createViewer($(\"#3dmolviewer_1614273267872521\"),{backgroundColor:\"white\"});\nviewer_1614273267872521.zoomTo();\n\tviewer_1614273267872521.addModel(\"\\n     RDKit          3D\\n\\n 16 16  0  0  0  0  0  0  0  0999 V2000\\n   -0.4214   -1.3025   -0.5078 N   0  0  0  0  0  0  0  0  0  4  0  0\\n   -1.4084   -0.3530   -0.0120 C   0  0  0  0  0  0  0  0  0  3  0  0\\n   -0.8568    1.0423   -0.1399 C   0  0  0  0  0  0  0  0  0  2  0  0\\n    0.3490    1.1563    0.6269 N   0  0  0  0  0  0  0  0  0  1  0  0\\n    1.3268    0.2420    0.1580 C   0  0  0  0  0  0  0  0  0  6  0  0\\n    0.7958   -1.1709    0.2842 C   0  0  0  0  0  0  0  0  0  5  0  0\\n   -0.2490   -1.1882   -1.5154 H   0  0  0  0  0  0  0  0  0  0  0  0\\n   -2.3249   -0.4492   -0.6302 H   0  0  0  0  0  0  0  0  0  0  0  0\\n   -1.6390   -0.5378    1.0344 H   0  0  0  0  0  0  0  0  0  0  0  0\\n   -1.6220    1.8037    0.1821 H   0  0  0  0  0  0  0  0  0  0  0  0\\n   -0.6559    1.1634   -1.2467 H   0  0  0  0  0  0  0  0  0  0  0  0\\n    0.6624    2.1068    0.8194 H   0  0  0  0  0  0  0  0  0  0  0  0\\n    2.2905    0.2793    0.6807 H   0  0  0  0  0  0  0  0  0  0  0  0\\n    1.5333    0.4344   -0.9251 H   0  0  0  0  0  0  0  0  0  0  0  0\\n    1.5466   -1.8388   -0.1572 H   0  0  0  0  0  0  0  0  0  0  0  0\\n    0.6731   -1.3878    1.3487 H   0  0  0  0  0  0  0  0  0  0  0  0\\n  1  2  1  0\\n  2  3  1  0\\n  3  4  1  0\\n  4  5  1  0\\n  5  6  1  0\\n  6  1  1  0\\n  1  7  1  0\\n  2  8  1  0\\n  2  9  1  0\\n  3 10  1  0\\n  3 11  1  0\\n  4 12  1  0\\n  5 13  1  0\\n  5 14  1  0\\n  6 15  1  0\\n  6 16  1  0\\nM  END\\n\",\"mol\");\n\tviewer_1614273267872521.setStyle({\"stick\": {}});\n\tviewer_1614273267872521.zoomTo();\nviewer_1614273267872521.render();\n});\n</script>",
      "text/html": [
       "<div id=\"3dmolviewer_1614273267872521\"  style=\"position: relative; width: 300px; height: 300px\">\n",
       "        <p id=\"3dmolwarning_1614273267872521\" style=\"background-color:#ffcccc;color:black\">You appear to be running in JupyterLab (or JavaScript failed to load for some other reason).  You need to install the 3dmol extension: <br>\n",
       "        <tt>jupyter labextension install jupyterlab_3dmol</tt></p>\n",
       "        </div>\n",
       "<script>\n",
       "\n",
       "var loadScriptAsync = function(uri){\n",
       "  return new Promise((resolve, reject) => {\n",
       "    var tag = document.createElement('script');\n",
       "    tag.src = uri;\n",
       "    tag.async = true;\n",
       "    tag.onload = () => {\n",
       "      resolve();\n",
       "    };\n",
       "  var firstScriptTag = document.getElementsByTagName('script')[0];\n",
       "  firstScriptTag.parentNode.insertBefore(tag, firstScriptTag);\n",
       "});\n",
       "};\n",
       "\n",
       "if(typeof $3Dmolpromise === 'undefined') {\n",
       "$3Dmolpromise = null;\n",
       "  $3Dmolpromise = loadScriptAsync('https://3dmol.org/build/3Dmol.js');\n",
       "}\n",
       "\n",
       "var viewer_1614273267872521 = null;\n",
       "var warn = document.getElementById(\"3dmolwarning_1614273267872521\");\n",
       "if(warn) {\n",
       "    warn.parentNode.removeChild(warn);\n",
       "}\n",
       "$3Dmolpromise.then(function() {\n",
       "viewer_1614273267872521 = $3Dmol.createViewer($(\"#3dmolviewer_1614273267872521\"),{backgroundColor:\"white\"});\n",
       "viewer_1614273267872521.zoomTo();\n",
       "\tviewer_1614273267872521.addModel(\"\\n     RDKit          3D\\n\\n 16 16  0  0  0  0  0  0  0  0999 V2000\\n   -0.4214   -1.3025   -0.5078 N   0  0  0  0  0  0  0  0  0  4  0  0\\n   -1.4084   -0.3530   -0.0120 C   0  0  0  0  0  0  0  0  0  3  0  0\\n   -0.8568    1.0423   -0.1399 C   0  0  0  0  0  0  0  0  0  2  0  0\\n    0.3490    1.1563    0.6269 N   0  0  0  0  0  0  0  0  0  1  0  0\\n    1.3268    0.2420    0.1580 C   0  0  0  0  0  0  0  0  0  6  0  0\\n    0.7958   -1.1709    0.2842 C   0  0  0  0  0  0  0  0  0  5  0  0\\n   -0.2490   -1.1882   -1.5154 H   0  0  0  0  0  0  0  0  0  0  0  0\\n   -2.3249   -0.4492   -0.6302 H   0  0  0  0  0  0  0  0  0  0  0  0\\n   -1.6390   -0.5378    1.0344 H   0  0  0  0  0  0  0  0  0  0  0  0\\n   -1.6220    1.8037    0.1821 H   0  0  0  0  0  0  0  0  0  0  0  0\\n   -0.6559    1.1634   -1.2467 H   0  0  0  0  0  0  0  0  0  0  0  0\\n    0.6624    2.1068    0.8194 H   0  0  0  0  0  0  0  0  0  0  0  0\\n    2.2905    0.2793    0.6807 H   0  0  0  0  0  0  0  0  0  0  0  0\\n    1.5333    0.4344   -0.9251 H   0  0  0  0  0  0  0  0  0  0  0  0\\n    1.5466   -1.8388   -0.1572 H   0  0  0  0  0  0  0  0  0  0  0  0\\n    0.6731   -1.3878    1.3487 H   0  0  0  0  0  0  0  0  0  0  0  0\\n  1  2  1  0\\n  2  3  1  0\\n  3  4  1  0\\n  4  5  1  0\\n  5  6  1  0\\n  6  1  1  0\\n  1  7  1  0\\n  2  8  1  0\\n  2  9  1  0\\n  3 10  1  0\\n  3 11  1  0\\n  4 12  1  0\\n  5 13  1  0\\n  5 14  1  0\\n  6 15  1  0\\n  6 16  1  0\\nM  END\\n\",\"mol\");\n",
       "\tviewer_1614273267872521.setStyle({\"stick\": {}});\n",
       "\tviewer_1614273267872521.zoomTo();\n",
       "viewer_1614273267872521.render();\n",
       "});\n",
       "</script>"
      ]
     },
     "metadata": {},
     "output_type": "display_data"
    }
   ],
   "source": [
    "#collapse-hide\n",
    "from random import shuffle\n",
    "conf_idx = [i for i, c in enumerate(confs) if c == 'chair']\n",
    "shuffle(conf_idx)\n",
    "\n",
    "viewer = py3Dmol.view(width=300, height=300)\n",
    "viewer.addModel(Chem.MolToMolBlock(mol_h, confId=conf_idx[0]), 'mol')\n",
    "viewer.setStyle({\"stick\":{}})\n",
    "viewer.zoomTo()\n",
    "viewer.show()"
   ]
  },
  {
   "cell_type": "markdown",
   "metadata": {},
   "source": [
    "A twisted conformer:"
   ]
  },
  {
   "cell_type": "code",
   "execution_count": 130,
   "metadata": {},
   "outputs": [
    {
     "data": {
      "application/3dmoljs_load.v0": "<div id=\"3dmolviewer_1614273302294014\"  style=\"position: relative; width: 300px; height: 300px\">\n        <p id=\"3dmolwarning_1614273302294014\" style=\"background-color:#ffcccc;color:black\">You appear to be running in JupyterLab (or JavaScript failed to load for some other reason).  You need to install the 3dmol extension: <br>\n        <tt>jupyter labextension install jupyterlab_3dmol</tt></p>\n        </div>\n<script>\n\nvar loadScriptAsync = function(uri){\n  return new Promise((resolve, reject) => {\n    var tag = document.createElement('script');\n    tag.src = uri;\n    tag.async = true;\n    tag.onload = () => {\n      resolve();\n    };\n  var firstScriptTag = document.getElementsByTagName('script')[0];\n  firstScriptTag.parentNode.insertBefore(tag, firstScriptTag);\n});\n};\n\nif(typeof $3Dmolpromise === 'undefined') {\n$3Dmolpromise = null;\n  $3Dmolpromise = loadScriptAsync('https://3dmol.org/build/3Dmol.js');\n}\n\nvar viewer_1614273302294014 = null;\nvar warn = document.getElementById(\"3dmolwarning_1614273302294014\");\nif(warn) {\n    warn.parentNode.removeChild(warn);\n}\n$3Dmolpromise.then(function() {\nviewer_1614273302294014 = $3Dmol.createViewer($(\"#3dmolviewer_1614273302294014\"),{backgroundColor:\"white\"});\nviewer_1614273302294014.zoomTo();\n\tviewer_1614273302294014.addModel(\"\\n     RDKit          3D\\n\\n 16 16  0  0  0  0  0  0  0  0999 V2000\\n   -0.6216   -0.9826   -0.9566 N   0  0  0  0  0  0  0  0  0  4  0  0\\n    0.7722   -0.8259   -0.3100 C   0  0  0  0  0  0  0  0  0  3  0  0\\n    1.2136    0.4509    0.5531 C   0  0  0  0  0  0  0  0  0  2  0  0\\n    0.7091    1.2872   -0.4111 N   0  0  0  0  0  0  0  0  0  1  0  0\\n   -0.7365    0.8934   -0.0425 C   0  0  0  0  0  0  0  0  0  6  0  0\\n   -1.2406   -0.6158    0.1823 C   0  0  0  0  0  0  0  0  0  5  0  0\\n   -0.6503   -1.9245   -1.3274 H   0  0  0  0  0  0  0  0  0  0  0  0\\n    1.4528   -0.9095   -1.1512 H   0  0  0  0  0  0  0  0  0  0  0  0\\n    0.8301   -1.6515    0.3972 H   0  0  0  0  0  0  0  0  0  0  0  0\\n    2.2770    0.3480    0.5739 H   0  0  0  0  0  0  0  0  0  0  0  0\\n    0.7339    0.3896    1.4925 H   0  0  0  0  0  0  0  0  0  0  0  0\\n    0.7555    2.2969   -0.2881 H   0  0  0  0  0  0  0  0  0  0  0  0\\n   -1.3230    1.2155   -0.9099 H   0  0  0  0  0  0  0  0  0  0  0  0\\n   -0.9051    1.4283    0.8922 H   0  0  0  0  0  0  0  0  0  0  0  0\\n   -0.9531   -0.9323    1.1766 H   0  0  0  0  0  0  0  0  0  0  0  0\\n   -2.3140   -0.4677    0.1291 H   0  0  0  0  0  0  0  0  0  0  0  0\\n  1  2  1  0\\n  2  3  1  0\\n  3  4  1  0\\n  4  5  1  0\\n  5  6  1  0\\n  6  1  1  0\\n  1  7  1  0\\n  2  8  1  0\\n  2  9  1  0\\n  3 10  1  0\\n  3 11  1  0\\n  4 12  1  0\\n  5 13  1  0\\n  5 14  1  0\\n  6 15  1  0\\n  6 16  1  0\\nM  END\\n\",\"mol\");\n\tviewer_1614273302294014.setStyle({\"stick\": {}});\n\tviewer_1614273302294014.zoomTo();\nviewer_1614273302294014.render();\n});\n</script>",
      "text/html": [
       "<div id=\"3dmolviewer_1614273302294014\"  style=\"position: relative; width: 300px; height: 300px\">\n",
       "        <p id=\"3dmolwarning_1614273302294014\" style=\"background-color:#ffcccc;color:black\">You appear to be running in JupyterLab (or JavaScript failed to load for some other reason).  You need to install the 3dmol extension: <br>\n",
       "        <tt>jupyter labextension install jupyterlab_3dmol</tt></p>\n",
       "        </div>\n",
       "<script>\n",
       "\n",
       "var loadScriptAsync = function(uri){\n",
       "  return new Promise((resolve, reject) => {\n",
       "    var tag = document.createElement('script');\n",
       "    tag.src = uri;\n",
       "    tag.async = true;\n",
       "    tag.onload = () => {\n",
       "      resolve();\n",
       "    };\n",
       "  var firstScriptTag = document.getElementsByTagName('script')[0];\n",
       "  firstScriptTag.parentNode.insertBefore(tag, firstScriptTag);\n",
       "});\n",
       "};\n",
       "\n",
       "if(typeof $3Dmolpromise === 'undefined') {\n",
       "$3Dmolpromise = null;\n",
       "  $3Dmolpromise = loadScriptAsync('https://3dmol.org/build/3Dmol.js');\n",
       "}\n",
       "\n",
       "var viewer_1614273302294014 = null;\n",
       "var warn = document.getElementById(\"3dmolwarning_1614273302294014\");\n",
       "if(warn) {\n",
       "    warn.parentNode.removeChild(warn);\n",
       "}\n",
       "$3Dmolpromise.then(function() {\n",
       "viewer_1614273302294014 = $3Dmol.createViewer($(\"#3dmolviewer_1614273302294014\"),{backgroundColor:\"white\"});\n",
       "viewer_1614273302294014.zoomTo();\n",
       "\tviewer_1614273302294014.addModel(\"\\n     RDKit          3D\\n\\n 16 16  0  0  0  0  0  0  0  0999 V2000\\n   -0.6216   -0.9826   -0.9566 N   0  0  0  0  0  0  0  0  0  4  0  0\\n    0.7722   -0.8259   -0.3100 C   0  0  0  0  0  0  0  0  0  3  0  0\\n    1.2136    0.4509    0.5531 C   0  0  0  0  0  0  0  0  0  2  0  0\\n    0.7091    1.2872   -0.4111 N   0  0  0  0  0  0  0  0  0  1  0  0\\n   -0.7365    0.8934   -0.0425 C   0  0  0  0  0  0  0  0  0  6  0  0\\n   -1.2406   -0.6158    0.1823 C   0  0  0  0  0  0  0  0  0  5  0  0\\n   -0.6503   -1.9245   -1.3274 H   0  0  0  0  0  0  0  0  0  0  0  0\\n    1.4528   -0.9095   -1.1512 H   0  0  0  0  0  0  0  0  0  0  0  0\\n    0.8301   -1.6515    0.3972 H   0  0  0  0  0  0  0  0  0  0  0  0\\n    2.2770    0.3480    0.5739 H   0  0  0  0  0  0  0  0  0  0  0  0\\n    0.7339    0.3896    1.4925 H   0  0  0  0  0  0  0  0  0  0  0  0\\n    0.7555    2.2969   -0.2881 H   0  0  0  0  0  0  0  0  0  0  0  0\\n   -1.3230    1.2155   -0.9099 H   0  0  0  0  0  0  0  0  0  0  0  0\\n   -0.9051    1.4283    0.8922 H   0  0  0  0  0  0  0  0  0  0  0  0\\n   -0.9531   -0.9323    1.1766 H   0  0  0  0  0  0  0  0  0  0  0  0\\n   -2.3140   -0.4677    0.1291 H   0  0  0  0  0  0  0  0  0  0  0  0\\n  1  2  1  0\\n  2  3  1  0\\n  3  4  1  0\\n  4  5  1  0\\n  5  6  1  0\\n  6  1  1  0\\n  1  7  1  0\\n  2  8  1  0\\n  2  9  1  0\\n  3 10  1  0\\n  3 11  1  0\\n  4 12  1  0\\n  5 13  1  0\\n  5 14  1  0\\n  6 15  1  0\\n  6 16  1  0\\nM  END\\n\",\"mol\");\n",
       "\tviewer_1614273302294014.setStyle({\"stick\": {}});\n",
       "\tviewer_1614273302294014.zoomTo();\n",
       "viewer_1614273302294014.render();\n",
       "});\n",
       "</script>"
      ]
     },
     "metadata": {},
     "output_type": "display_data"
    }
   ],
   "source": [
    "#collapse-hide\n",
    "from random import shuffle\n",
    "conf_idx = [i for i, c in enumerate(confs) if c == 'twisted']\n",
    "shuffle(conf_idx)\n",
    "\n",
    "viewer = py3Dmol.view(width=300, height=300)\n",
    "viewer.addModel(Chem.MolToMolBlock(mol_h, confId=conf_idx[0]), 'mol')\n",
    "viewer.setStyle({\"stick\":{}})\n",
    "viewer.zoomTo()\n",
    "viewer.show()"
   ]
  },
  {
   "cell_type": "markdown",
   "metadata": {},
   "source": [
    "# Conclusion\n",
    "\n",
    "I have used piperazine as an example because the molecule I was working had one, but I imagine cyclohexane may have the similar issue. The new ETKDG v3 algorithm does a good job getting chair conformation without FF optimization, but it could also produce seriously twisted conformers sometimes. User should check their conformer in such case with care before proceeding. \n",
    "\n",
    "I have not looked into how RDKit's ETKDG algorithm is implemented yet. If it is simple, I might be able to contribute. Otherwise, I can use the conformation checker I used here to filter out non-chair conformers."
   ]
  },
  {
   "cell_type": "code",
   "execution_count": null,
   "metadata": {},
   "outputs": [],
   "source": []
  }
 ],
 "metadata": {
  "kernelspec": {
   "display_name": "Python 3",
   "language": "python",
   "name": "python3"
  },
  "language_info": {
   "codemirror_mode": {
    "name": "ipython",
    "version": 3
   },
   "file_extension": ".py",
   "mimetype": "text/x-python",
   "name": "python",
   "nbconvert_exporter": "python",
   "pygments_lexer": "ipython3",
   "version": "3.7.4"
  }
 },
 "nbformat": 4,
 "nbformat_minor": 4
}
