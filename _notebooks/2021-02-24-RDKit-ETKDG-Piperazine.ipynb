{
 "cells": [
  {
   "cell_type": "markdown",
   "metadata": {},
   "source": [
    "# Piperazine Ring Conformation using RDKit\n",
    "> Examine ring conformation of piperazine built by RDKit ETKDG algorithm\n",
    "\n",
    "- toc: true \n",
    "- badges: true\n",
    "- comments: true\n",
    "- categories: [rdkit]"
   ]
  },
  {
   "cell_type": "markdown",
   "metadata": {},
   "source": [
    "# Motivation\n",
    "\n",
    "I noticed whenever I built 3D conformers of molecules containing piperazine (or cyclohexane) using RDKit, I tend to get a distorted ring conformation. RDKit's ETKDG (Experimental Torsion angle Knowledge-based Distance Geometry) algorithm works really well in general, but, in this case, it was not doing a good job at coming up with a reasonable initial conformation. I wanted to first quantify how much chair vs boat vs twisted conformer I get, so either I could use it to filter out non-desirable conformers or improve the RDKit's conformer generation routine. "
   ]
  },
  {
   "cell_type": "code",
   "execution_count": 246,
   "metadata": {},
   "outputs": [
    {
     "name": "stdout",
     "output_type": "stream",
     "text": [
      "2020.03.2\n"
     ]
    }
   ],
   "source": [
    "#collapse-hide\n",
    "%matplotlib inline\n",
    "import matplotlib.pyplot as plt\n",
    "\n",
    "from io import BytesIO\n",
    "import pandas as pd\n",
    "import numpy as np\n",
    "from rdkit.Chem import PandasTools\n",
    "\n",
    "from rdkit import Chem\n",
    "from rdkit.Chem import AllChem\n",
    "from rdkit.Chem import DataStructs\n",
    "from rdkit.Chem import rdMolDescriptors\n",
    "from rdkit.Chem import rdRGroupDecomposition\n",
    "\n",
    "from rdkit.Chem.Draw import IPythonConsole #Needed to show molecules\n",
    "from rdkit.Chem import Draw\n",
    "from rdkit.Chem import rdDepictor\n",
    "from rdkit.Chem.Draw import rdMolDraw2D\n",
    "from rdkit.Chem.Draw.MolDrawing import MolDrawing, DrawingOptions #Only needed if modifying defaults\n",
    "\n",
    "DrawingOptions.bondLineWidth=1.8\n",
    "IPythonConsole.ipython_useSVG=True\n",
    "from rdkit import RDLogger\n",
    "RDLogger.DisableLog('rdApp.warning')\n",
    "import rdkit\n",
    "import py3Dmol\n",
    "print(rdkit.__version__)"
   ]
  },
  {
   "cell_type": "markdown",
   "metadata": {},
   "source": [
    "# Ring conformation using ETKDG v1\n",
    "\n",
    "Let's make a piperazine molecule for testing. I put atom map in my SMILES, so I can refer them easily later."
   ]
  },
  {
   "cell_type": "code",
   "execution_count": 315,
   "metadata": {},
   "outputs": [
    {
     "data": {
      "image/png": "[encoded data removed]",
      "image/svg+xml": [
       "<?xml version='1.0' encoding='iso-8859-1'?>\n",
       "<svg version='1.1' baseProfile='full'\n",
       "              xmlns='http://www.w3.org/2000/svg'\n",
       "                      xmlns:rdkit='http://www.rdkit.org/xml'\n",
       "                      xmlns:xlink='http://www.w3.org/1999/xlink'\n",
       "                  xml:space='preserve'\n",
       "width='450px' height='150px' viewBox='0 0 450 150'>\n",
       "<!-- END OF HEADER -->\n",
       "<rect style='opacity:1.0;fill:#FFFFFF;stroke:none' width='450' height='150' x='0' y='0'> </rect>\n",
       "<path class='bond-0' d='M 290.179,86.0039 L 280.026,103.589' style='fill:none;fill-rule:evenodd;stroke:#0000FF;stroke-width:2px;stroke-linecap:butt;stroke-linejoin:miter;stroke-opacity:1' />\n",
       "<path class='bond-0' d='M 280.026,103.589 L 269.873,121.174' style='fill:none;fill-rule:evenodd;stroke:#000000;stroke-width:2px;stroke-linecap:butt;stroke-linejoin:miter;stroke-opacity:1' />\n",
       "<path class='bond-5' d='M 290.179,63.9961 L 280.026,46.411' style='fill:none;fill-rule:evenodd;stroke:#0000FF;stroke-width:2px;stroke-linecap:butt;stroke-linejoin:miter;stroke-opacity:1' />\n",
       "<path class='bond-5' d='M 280.026,46.411 L 269.873,28.826' style='fill:none;fill-rule:evenodd;stroke:#000000;stroke-width:2px;stroke-linecap:butt;stroke-linejoin:miter;stroke-opacity:1' />\n",
       "<path class='bond-1' d='M 242.966,132.178 L 218.052,132.178' style='fill:none;fill-rule:evenodd;stroke:#000000;stroke-width:2px;stroke-linecap:butt;stroke-linejoin:miter;stroke-opacity:1' />\n",
       "<path class='bond-2' d='M 191.144,121.174 L 180.991,103.589' style='fill:none;fill-rule:evenodd;stroke:#000000;stroke-width:2px;stroke-linecap:butt;stroke-linejoin:miter;stroke-opacity:1' />\n",
       "<path class='bond-2' d='M 180.991,103.589 L 170.838,86.0039' style='fill:none;fill-rule:evenodd;stroke:#0000FF;stroke-width:2px;stroke-linecap:butt;stroke-linejoin:miter;stroke-opacity:1' />\n",
       "<path class='bond-3' d='M 170.838,63.9961 L 180.991,46.411' style='fill:none;fill-rule:evenodd;stroke:#0000FF;stroke-width:2px;stroke-linecap:butt;stroke-linejoin:miter;stroke-opacity:1' />\n",
       "<path class='bond-3' d='M 180.991,46.411 L 191.144,28.826' style='fill:none;fill-rule:evenodd;stroke:#000000;stroke-width:2px;stroke-linecap:butt;stroke-linejoin:miter;stroke-opacity:1' />\n",
       "<path class='bond-4' d='M 218.052,17.8221 L 242.966,17.8221' style='fill:none;fill-rule:evenodd;stroke:#000000;stroke-width:2px;stroke-linecap:butt;stroke-linejoin:miter;stroke-opacity:1' />\n",
       "<text dominant-baseline=\"central\" text-anchor=\"start\" x='278.178' y='78.3012' style='font-size:22px;font-style:normal;font-weight:normal;fill-opacity:1;stroke:none;font-family:sans-serif;fill:#0000FF' ><tspan>N:4H</tspan></text>\n",
       "<text dominant-baseline=\"central\" text-anchor=\"start\" x='245.166' y='135.479' style='font-size:22px;font-style:normal;font-weight:normal;fill-opacity:1;stroke:none;font-family:sans-serif;fill:#000000' ><tspan>C:3</tspan></text>\n",
       "<text dominant-baseline=\"central\" text-anchor=\"end\" x='215.851' y='135.479' style='font-size:22px;font-style:normal;font-weight:normal;fill-opacity:1;stroke:none;font-family:sans-serif;fill:#000000' ><tspan>C:2</tspan></text>\n",
       "<text dominant-baseline=\"central\" text-anchor=\"end\" x='182.839' y='78.3012' style='font-size:22px;font-style:normal;font-weight:normal;fill-opacity:1;stroke:none;font-family:sans-serif;fill:#0000FF' ><tspan>HN:1</tspan></text>\n",
       "<text dominant-baseline=\"central\" text-anchor=\"end\" x='215.851' y='21.1232' style='font-size:22px;font-style:normal;font-weight:normal;fill-opacity:1;stroke:none;font-family:sans-serif;fill:#000000' ><tspan>C:6</tspan></text>\n",
       "<text dominant-baseline=\"central\" text-anchor=\"start\" x='245.166' y='21.1232' style='font-size:22px;font-style:normal;font-weight:normal;fill-opacity:1;stroke:none;font-family:sans-serif;fill:#000000' ><tspan>C:5</tspan></text>\n",
       "</svg>\n"
      ],
      "text/plain": [
       "<rdkit.Chem.rdchem.Mol at 0x7fd508bec440>"
      ]
     },
     "execution_count": 315,
     "metadata": {},
     "output_type": "execute_result"
    }
   ],
   "source": [
    "smiles = '[NH:4]1[CH2:3][CH2:2][NH:1][CH2:6][CH2:5]1'\n",
    "mol = Chem.MolFromSmiles(smiles)\n",
    "mol"
   ]
  },
  {
   "cell_type": "markdown",
   "metadata": {},
   "source": [
    "Let's use default parameter for embedding, which uses ETKDG version 1, and generate 500 conformers. "
   ]
  },
  {
   "cell_type": "code",
   "execution_count": 316,
   "metadata": {},
   "outputs": [],
   "source": [
    "# ETKDG v1 \n",
    "params = Chem.rdDistGeom.EmbedParameters()\n",
    "params.randomSeed = 0xf00d\n",
    "\n",
    "#params = Chem.rdDistGeom.srETKDGv3() \n",
    "cids = AllChem.EmbedMultipleConfs(mol, numConfs=500, params=params)"
   ]
  },
  {
   "cell_type": "code",
   "execution_count": 317,
   "metadata": {},
   "outputs": [],
   "source": [
    "# atom mapping\n",
    "atoms = {a.GetAtomMapNum(): a.GetIdx() for a in mol.GetAtoms() if a.GetAtomMapNum() > 0}\n",
    "\n",
    "# torsion angle atom indices\n",
    "torsions = [\n",
    "    (atoms[1], atoms[2], atoms[3], atoms[4]),\n",
    "    (atoms[2], atoms[3], atoms[4], atoms[5]),\n",
    "    (atoms[3], atoms[4], atoms[5], atoms[6]),\n",
    "    (atoms[4], atoms[5], atoms[6], atoms[1]),\n",
    "    (atoms[5], atoms[6], atoms[1], atoms[2]),\n",
    "    (atoms[6], atoms[1], atoms[2], atoms[3]),\n",
    "]"
   ]
  },
  {
   "cell_type": "markdown",
   "metadata": {},
   "source": [
    "I'm going to define a simple check in chain vs boat vs twisted conformers of cyclohexane ring. If all six torsions are near +/- 60˚ (margin 30˚), it is considered a chair conformation. If two opposite torsions are close to 0˚ (margin 30˚) and the other remaining torsion angles are around +/- 60˚, then it is considered a boat conformation. The rest are considered as a twisted conformation."
   ]
  },
  {
   "cell_type": "code",
   "execution_count": 318,
   "metadata": {},
   "outputs": [],
   "source": [
    "def ring_conformers(mol):\n",
    "    angles = []\n",
    "    confs = []\n",
    "\n",
    "    for conf in mol.GetConformers():\n",
    "        angs = np.abs([Chem.rdMolTransforms.GetDihedralDeg(conf, *t) for t in torsions])\n",
    "        angles.append(angs)\n",
    "\n",
    "        if np.all(np.abs((angs - 60)/60) < 0.5): \n",
    "            confs.append('chair')\n",
    "        elif angs[0] < 30 and angs[3] < 30 and np.all(np.abs((angs[[1,3,4,5]] - 60)/60) < 0.5):\n",
    "            confs.append('boat')\n",
    "        elif angs[1] < 30 and angs[4] < 30 and np.all(np.abs((angs[[0,2,3,4]] - 60)/60) < 0.5):\n",
    "            confs.append('boat')        \n",
    "        elif angs[2] < 30 and angs[5] < 30 and np.all(np.abs((angs[[0,1,3,4]] - 60)/60) < 0.5):\n",
    "            confs.append('boat')        \n",
    "        else:\n",
    "            confs.append('twisted')\n",
    "    return confs"
   ]
  },
  {
   "cell_type": "code",
   "execution_count": 319,
   "metadata": {},
   "outputs": [
    {
     "data": {
      "text/plain": [
       "Counter({'chair': 144, 'twisted': 327, 'boat': 29})"
      ]
     },
     "execution_count": 319,
     "metadata": {},
     "output_type": "execute_result"
    }
   ],
   "source": [
    "from collections import Counter\n",
    "confs = ring_conformers(mol)\n",
    "Counter(confs)"
   ]
  },
  {
   "cell_type": "markdown",
   "metadata": {},
   "source": [
    "So, I got 144 chair (28%), 29 boat (6%), and 327 twisted (65%) conformers. Let's take a look at some conformers and make sure we got the right conformers. First chair conformation."
   ]
  },
  {
   "cell_type": "code",
   "execution_count": 320,
   "metadata": {},
   "outputs": [
    {
     "data": {
      "application/3dmoljs_load.v0": "<div id=\"3dmolviewer_1614238671603947\"  style=\"position: relative; width: 300px; height: 300px\">\n        <p id=\"3dmolwarning_1614238671603947\" style=\"background-color:#ffcccc;color:black\">You appear to be running in JupyterLab (or JavaScript failed to load for some other reason).  You need to install the 3dmol extension: <br>\n        <tt>jupyter labextension install jupyterlab_3dmol</tt></p>\n        </div>\n<script>\n\nvar loadScriptAsync = function(uri){\n  return new Promise((resolve, reject) => {\n    var tag = document.createElement('script');\n    tag.src = uri;\n    tag.async = true;\n    tag.onload = () => {\n      resolve();\n    };\n  var firstScriptTag = document.getElementsByTagName('script')[0];\n  firstScriptTag.parentNode.insertBefore(tag, firstScriptTag);\n});\n};\n\nif(typeof $3Dmolpromise === 'undefined') {\n$3Dmolpromise = null;\n  $3Dmolpromise = loadScriptAsync('https://3dmol.org/build/3Dmol.js');\n}\n\nvar viewer_1614238671603947 = null;\nvar warn = document.getElementById(\"3dmolwarning_1614238671603947\");\nif(warn) {\n    warn.parentNode.removeChild(warn);\n}\n$3Dmolpromise.then(function() {\nviewer_1614238671603947 = $3Dmol.createViewer($(\"#3dmolviewer_1614238671603947\"),{backgroundColor:\"white\"});\nviewer_1614238671603947.zoomTo();\n\tviewer_1614238671603947.addModel(\"\\n     RDKit          3D\\n\\n  6  6  0  0  0  0  0  0  0  0999 V2000\\n    0.3943   -1.3474   -0.1414 N   0  0  0  0  0  0  0  0  0  4  0  0\\n   -0.8830   -0.9668   -0.6645 C   0  0  0  0  0  0  0  0  0  3  0  0\\n   -1.3960    0.3473   -0.0939 C   0  0  0  0  0  0  0  0  0  2  0  0\\n   -0.3342    1.3255   -0.2589 N   0  0  0  0  0  0  0  0  0  1  0  0\\n    0.8390    0.9464    0.5215 C   0  0  0  0  0  0  0  0  0  6  0  0\\n    1.3798   -0.3051   -0.1534 C   0  0  0  0  0  0  0  0  0  5  0  0\\n  1  2  1  0\\n  2  3  1  0\\n  3  4  1  0\\n  4  5  1  0\\n  5  6  1  0\\n  6  1  1  0\\nM  END\\n\",\"mol\");\n\tviewer_1614238671603947.setStyle({\"stick\": {}});\n\tviewer_1614238671603947.zoomTo();\nviewer_1614238671603947.render();\n});\n</script>",
      "text/html": [
       "<div id=\"3dmolviewer_1614238671603947\"  style=\"position: relative; width: 300px; height: 300px\">\n",
       "        <p id=\"3dmolwarning_1614238671603947\" style=\"background-color:#ffcccc;color:black\">You appear to be running in JupyterLab (or JavaScript failed to load for some other reason).  You need to install the 3dmol extension: <br>\n",
       "        <tt>jupyter labextension install jupyterlab_3dmol</tt></p>\n",
       "        </div>\n",
       "<script>\n",
       "\n",
       "var loadScriptAsync = function(uri){\n",
       "  return new Promise((resolve, reject) => {\n",
       "    var tag = document.createElement('script');\n",
       "    tag.src = uri;\n",
       "    tag.async = true;\n",
       "    tag.onload = () => {\n",
       "      resolve();\n",
       "    };\n",
       "  var firstScriptTag = document.getElementsByTagName('script')[0];\n",
       "  firstScriptTag.parentNode.insertBefore(tag, firstScriptTag);\n",
       "});\n",
       "};\n",
       "\n",
       "if(typeof $3Dmolpromise === 'undefined') {\n",
       "$3Dmolpromise = null;\n",
       "  $3Dmolpromise = loadScriptAsync('https://3dmol.org/build/3Dmol.js');\n",
       "}\n",
       "\n",
       "var viewer_1614238671603947 = null;\n",
       "var warn = document.getElementById(\"3dmolwarning_1614238671603947\");\n",
       "if(warn) {\n",
       "    warn.parentNode.removeChild(warn);\n",
       "}\n",
       "$3Dmolpromise.then(function() {\n",
       "viewer_1614238671603947 = $3Dmol.createViewer($(\"#3dmolviewer_1614238671603947\"),{backgroundColor:\"white\"});\n",
       "viewer_1614238671603947.zoomTo();\n",
       "\tviewer_1614238671603947.addModel(\"\\n     RDKit          3D\\n\\n  6  6  0  0  0  0  0  0  0  0999 V2000\\n    0.3943   -1.3474   -0.1414 N   0  0  0  0  0  0  0  0  0  4  0  0\\n   -0.8830   -0.9668   -0.6645 C   0  0  0  0  0  0  0  0  0  3  0  0\\n   -1.3960    0.3473   -0.0939 C   0  0  0  0  0  0  0  0  0  2  0  0\\n   -0.3342    1.3255   -0.2589 N   0  0  0  0  0  0  0  0  0  1  0  0\\n    0.8390    0.9464    0.5215 C   0  0  0  0  0  0  0  0  0  6  0  0\\n    1.3798   -0.3051   -0.1534 C   0  0  0  0  0  0  0  0  0  5  0  0\\n  1  2  1  0\\n  2  3  1  0\\n  3  4  1  0\\n  4  5  1  0\\n  5  6  1  0\\n  6  1  1  0\\nM  END\\n\",\"mol\");\n",
       "\tviewer_1614238671603947.setStyle({\"stick\": {}});\n",
       "\tviewer_1614238671603947.zoomTo();\n",
       "viewer_1614238671603947.render();\n",
       "});\n",
       "</script>"
      ]
     },
     "metadata": {},
     "output_type": "display_data"
    }
   ],
   "source": [
    "#collapse-hide\n",
    "from random import shuffle\n",
    "conf_idx = [i for i, c in enumerate(confs) if c == 'chair']\n",
    "shuffle(conf_idx)\n",
    "\n",
    "viewer = py3Dmol.view(width=300, height=300)\n",
    "viewer.addModel(Chem.MolToMolBlock(mol, confId=conf_idx[0]), 'mol')\n",
    "viewer.setStyle({\"stick\":{}})\n",
    "viewer.zoomTo()\n",
    "viewer.show()"
   ]
  },
  {
   "cell_type": "markdown",
   "metadata": {},
   "source": [
    "And a boat conformation:"
   ]
  },
  {
   "cell_type": "code",
   "execution_count": 321,
   "metadata": {},
   "outputs": [
    {
     "data": {
      "application/3dmoljs_load.v0": "<div id=\"3dmolviewer_1614238672430392\"  style=\"position: relative; width: 300px; height: 300px\">\n        <p id=\"3dmolwarning_1614238672430392\" style=\"background-color:#ffcccc;color:black\">You appear to be running in JupyterLab (or JavaScript failed to load for some other reason).  You need to install the 3dmol extension: <br>\n        <tt>jupyter labextension install jupyterlab_3dmol</tt></p>\n        </div>\n<script>\n\nvar loadScriptAsync = function(uri){\n  return new Promise((resolve, reject) => {\n    var tag = document.createElement('script');\n    tag.src = uri;\n    tag.async = true;\n    tag.onload = () => {\n      resolve();\n    };\n  var firstScriptTag = document.getElementsByTagName('script')[0];\n  firstScriptTag.parentNode.insertBefore(tag, firstScriptTag);\n});\n};\n\nif(typeof $3Dmolpromise === 'undefined') {\n$3Dmolpromise = null;\n  $3Dmolpromise = loadScriptAsync('https://3dmol.org/build/3Dmol.js');\n}\n\nvar viewer_1614238672430392 = null;\nvar warn = document.getElementById(\"3dmolwarning_1614238672430392\");\nif(warn) {\n    warn.parentNode.removeChild(warn);\n}\n$3Dmolpromise.then(function() {\nviewer_1614238672430392 = $3Dmol.createViewer($(\"#3dmolviewer_1614238672430392\"),{backgroundColor:\"white\"});\nviewer_1614238672430392.zoomTo();\n\tviewer_1614238672430392.addModel(\"\\n     RDKit          3D\\n\\n  6  6  0  0  0  0  0  0  0  0999 V2000\\n    1.0573    0.8822    0.6778 N   0  0  0  0  0  0  0  0  0  4  0  0\\n    1.2464   -0.3231   -0.1160 C   0  0  0  0  0  0  0  0  0  3  0  0\\n    0.3009   -1.3578    0.4772 C   0  0  0  0  0  0  0  0  0  2  0  0\\n   -1.0668   -0.9266    0.3369 N   0  0  0  0  0  0  0  0  0  1  0  0\\n   -1.2085    0.4154   -0.1585 C   0  0  0  0  0  0  0  0  0  6  0  0\\n   -0.3292    1.3099    0.7015 C   0  0  0  0  0  0  0  0  0  5  0  0\\n  1  2  1  0\\n  2  3  1  0\\n  3  4  1  0\\n  4  5  1  0\\n  5  6  1  0\\n  6  1  1  0\\nM  END\\n\",\"mol\");\n\tviewer_1614238672430392.setStyle({\"stick\": {}});\n\tviewer_1614238672430392.zoomTo();\nviewer_1614238672430392.render();\n});\n</script>",
      "text/html": [
       "<div id=\"3dmolviewer_1614238672430392\"  style=\"position: relative; width: 300px; height: 300px\">\n",
       "        <p id=\"3dmolwarning_1614238672430392\" style=\"background-color:#ffcccc;color:black\">You appear to be running in JupyterLab (or JavaScript failed to load for some other reason).  You need to install the 3dmol extension: <br>\n",
       "        <tt>jupyter labextension install jupyterlab_3dmol</tt></p>\n",
       "        </div>\n",
       "<script>\n",
       "\n",
       "var loadScriptAsync = function(uri){\n",
       "  return new Promise((resolve, reject) => {\n",
       "    var tag = document.createElement('script');\n",
       "    tag.src = uri;\n",
       "    tag.async = true;\n",
       "    tag.onload = () => {\n",
       "      resolve();\n",
       "    };\n",
       "  var firstScriptTag = document.getElementsByTagName('script')[0];\n",
       "  firstScriptTag.parentNode.insertBefore(tag, firstScriptTag);\n",
       "});\n",
       "};\n",
       "\n",
       "if(typeof $3Dmolpromise === 'undefined') {\n",
       "$3Dmolpromise = null;\n",
       "  $3Dmolpromise = loadScriptAsync('https://3dmol.org/build/3Dmol.js');\n",
       "}\n",
       "\n",
       "var viewer_1614238672430392 = null;\n",
       "var warn = document.getElementById(\"3dmolwarning_1614238672430392\");\n",
       "if(warn) {\n",
       "    warn.parentNode.removeChild(warn);\n",
       "}\n",
       "$3Dmolpromise.then(function() {\n",
       "viewer_1614238672430392 = $3Dmol.createViewer($(\"#3dmolviewer_1614238672430392\"),{backgroundColor:\"white\"});\n",
       "viewer_1614238672430392.zoomTo();\n",
       "\tviewer_1614238672430392.addModel(\"\\n     RDKit          3D\\n\\n  6  6  0  0  0  0  0  0  0  0999 V2000\\n    1.0573    0.8822    0.6778 N   0  0  0  0  0  0  0  0  0  4  0  0\\n    1.2464   -0.3231   -0.1160 C   0  0  0  0  0  0  0  0  0  3  0  0\\n    0.3009   -1.3578    0.4772 C   0  0  0  0  0  0  0  0  0  2  0  0\\n   -1.0668   -0.9266    0.3369 N   0  0  0  0  0  0  0  0  0  1  0  0\\n   -1.2085    0.4154   -0.1585 C   0  0  0  0  0  0  0  0  0  6  0  0\\n   -0.3292    1.3099    0.7015 C   0  0  0  0  0  0  0  0  0  5  0  0\\n  1  2  1  0\\n  2  3  1  0\\n  3  4  1  0\\n  4  5  1  0\\n  5  6  1  0\\n  6  1  1  0\\nM  END\\n\",\"mol\");\n",
       "\tviewer_1614238672430392.setStyle({\"stick\": {}});\n",
       "\tviewer_1614238672430392.zoomTo();\n",
       "viewer_1614238672430392.render();\n",
       "});\n",
       "</script>"
      ]
     },
     "metadata": {},
     "output_type": "display_data"
    }
   ],
   "source": [
    "#collapse-hide\n",
    "from random import shuffle\n",
    "conf_idx = [i for i, c in enumerate(confs) if c == 'boat']\n",
    "shuffle(conf_idx)\n",
    "\n",
    "viewer = py3Dmol.view(width=300, height=300)\n",
    "viewer.addModel(Chem.MolToMolBlock(mol, confId=conf_idx[0]), 'mol')\n",
    "viewer.setStyle({\"stick\":{}})\n",
    "viewer.zoomTo()\n",
    "viewer.show()"
   ]
  },
  {
   "cell_type": "markdown",
   "metadata": {},
   "source": [
    "And finally a twisted conformation:"
   ]
  },
  {
   "cell_type": "code",
   "execution_count": 322,
   "metadata": {},
   "outputs": [
    {
     "data": {
      "application/3dmoljs_load.v0": "<div id=\"3dmolviewer_1614238673294403\"  style=\"position: relative; width: 300px; height: 300px\">\n        <p id=\"3dmolwarning_1614238673294403\" style=\"background-color:#ffcccc;color:black\">You appear to be running in JupyterLab (or JavaScript failed to load for some other reason).  You need to install the 3dmol extension: <br>\n        <tt>jupyter labextension install jupyterlab_3dmol</tt></p>\n        </div>\n<script>\n\nvar loadScriptAsync = function(uri){\n  return new Promise((resolve, reject) => {\n    var tag = document.createElement('script');\n    tag.src = uri;\n    tag.async = true;\n    tag.onload = () => {\n      resolve();\n    };\n  var firstScriptTag = document.getElementsByTagName('script')[0];\n  firstScriptTag.parentNode.insertBefore(tag, firstScriptTag);\n});\n};\n\nif(typeof $3Dmolpromise === 'undefined') {\n$3Dmolpromise = null;\n  $3Dmolpromise = loadScriptAsync('https://3dmol.org/build/3Dmol.js');\n}\n\nvar viewer_1614238673294403 = null;\nvar warn = document.getElementById(\"3dmolwarning_1614238673294403\");\nif(warn) {\n    warn.parentNode.removeChild(warn);\n}\n$3Dmolpromise.then(function() {\nviewer_1614238673294403 = $3Dmol.createViewer($(\"#3dmolviewer_1614238673294403\"),{backgroundColor:\"white\"});\nviewer_1614238673294403.zoomTo();\n\tviewer_1614238673294403.addModel(\"\\n     RDKit          3D\\n\\n  6  6  0  0  0  0  0  0  0  0999 V2000\\n   -0.9509    1.0001    0.1659 N   0  0  0  0  0  0  0  0  0  4  0  0\\n   -1.3615   -0.3164   -0.2558 C   0  0  0  0  0  0  0  0  0  3  0  0\\n   -0.3442   -1.3503    0.0892 C   0  0  0  0  0  0  0  0  0  2  0  0\\n    1.0032   -1.0161   -0.1892 N   0  0  0  0  0  0  0  0  0  1  0  0\\n    1.3238    0.3075   -0.5077 C   0  0  0  0  0  0  0  0  0  6  0  0\\n    0.3296    1.3753   -0.3177 C   0  0  0  0  0  0  0  0  0  5  0  0\\n  1  2  1  0\\n  2  3  1  0\\n  3  4  1  0\\n  4  5  1  0\\n  5  6  1  0\\n  6  1  1  0\\nM  END\\n\",\"mol\");\n\tviewer_1614238673294403.setStyle({\"stick\": {}});\n\tviewer_1614238673294403.zoomTo();\nviewer_1614238673294403.render();\n});\n</script>",
      "text/html": [
       "<div id=\"3dmolviewer_1614238673294403\"  style=\"position: relative; width: 300px; height: 300px\">\n",
       "        <p id=\"3dmolwarning_1614238673294403\" style=\"background-color:#ffcccc;color:black\">You appear to be running in JupyterLab (or JavaScript failed to load for some other reason).  You need to install the 3dmol extension: <br>\n",
       "        <tt>jupyter labextension install jupyterlab_3dmol</tt></p>\n",
       "        </div>\n",
       "<script>\n",
       "\n",
       "var loadScriptAsync = function(uri){\n",
       "  return new Promise((resolve, reject) => {\n",
       "    var tag = document.createElement('script');\n",
       "    tag.src = uri;\n",
       "    tag.async = true;\n",
       "    tag.onload = () => {\n",
       "      resolve();\n",
       "    };\n",
       "  var firstScriptTag = document.getElementsByTagName('script')[0];\n",
       "  firstScriptTag.parentNode.insertBefore(tag, firstScriptTag);\n",
       "});\n",
       "};\n",
       "\n",
       "if(typeof $3Dmolpromise === 'undefined') {\n",
       "$3Dmolpromise = null;\n",
       "  $3Dmolpromise = loadScriptAsync('https://3dmol.org/build/3Dmol.js');\n",
       "}\n",
       "\n",
       "var viewer_1614238673294403 = null;\n",
       "var warn = document.getElementById(\"3dmolwarning_1614238673294403\");\n",
       "if(warn) {\n",
       "    warn.parentNode.removeChild(warn);\n",
       "}\n",
       "$3Dmolpromise.then(function() {\n",
       "viewer_1614238673294403 = $3Dmol.createViewer($(\"#3dmolviewer_1614238673294403\"),{backgroundColor:\"white\"});\n",
       "viewer_1614238673294403.zoomTo();\n",
       "\tviewer_1614238673294403.addModel(\"\\n     RDKit          3D\\n\\n  6  6  0  0  0  0  0  0  0  0999 V2000\\n   -0.9509    1.0001    0.1659 N   0  0  0  0  0  0  0  0  0  4  0  0\\n   -1.3615   -0.3164   -0.2558 C   0  0  0  0  0  0  0  0  0  3  0  0\\n   -0.3442   -1.3503    0.0892 C   0  0  0  0  0  0  0  0  0  2  0  0\\n    1.0032   -1.0161   -0.1892 N   0  0  0  0  0  0  0  0  0  1  0  0\\n    1.3238    0.3075   -0.5077 C   0  0  0  0  0  0  0  0  0  6  0  0\\n    0.3296    1.3753   -0.3177 C   0  0  0  0  0  0  0  0  0  5  0  0\\n  1  2  1  0\\n  2  3  1  0\\n  3  4  1  0\\n  4  5  1  0\\n  5  6  1  0\\n  6  1  1  0\\nM  END\\n\",\"mol\");\n",
       "\tviewer_1614238673294403.setStyle({\"stick\": {}});\n",
       "\tviewer_1614238673294403.zoomTo();\n",
       "viewer_1614238673294403.render();\n",
       "});\n",
       "</script>"
      ]
     },
     "metadata": {},
     "output_type": "display_data"
    }
   ],
   "source": [
    "#collapse-hide\n",
    "from random import shuffle\n",
    "conf_idx = [i for i, c in enumerate(confs) if c == 'twisted']\n",
    "shuffle(conf_idx)\n",
    "\n",
    "viewer = py3Dmol.view(width=300, height=300)\n",
    "viewer.addModel(Chem.MolToMolBlock(mol, confId=conf_idx[0]), 'mol')\n",
    "viewer.setStyle({\"stick\":{}})\n",
    "viewer.zoomTo()\n",
    "viewer.show()"
   ]
  },
  {
   "cell_type": "markdown",
   "metadata": {},
   "source": [
    "# Optimize Geometry using MMFF\n",
    "\n",
    "Optimizing the Geometry using MMFF does the number of chair conformations and reduces twisted conformers."
   ]
  },
  {
   "cell_type": "code",
   "execution_count": 323,
   "metadata": {},
   "outputs": [],
   "source": [
    "for conf in mol.GetConformers():\n",
    "    AllChem.MMFFOptimizeMolecule(mol, confId=conf.GetId())"
   ]
  },
  {
   "cell_type": "code",
   "execution_count": 325,
   "metadata": {},
   "outputs": [
    {
     "data": {
      "text/plain": [
       "Counter({'chair': 253, 'twisted': 247})"
      ]
     },
     "execution_count": 325,
     "metadata": {},
     "output_type": "execute_result"
    }
   ],
   "source": [
    "confs = ring_conformers(mol)\n",
    "Counter(confs)"
   ]
  },
  {
   "cell_type": "markdown",
   "metadata": {},
   "source": [
    "Still about 50% of the conformers remain in the twisted conformation. "
   ]
  },
  {
   "cell_type": "code",
   "execution_count": 326,
   "metadata": {},
   "outputs": [
    {
     "data": {
      "application/3dmoljs_load.v0": "<div id=\"3dmolviewer_161423876500316\"  style=\"position: relative; width: 300px; height: 300px\">\n        <p id=\"3dmolwarning_161423876500316\" style=\"background-color:#ffcccc;color:black\">You appear to be running in JupyterLab (or JavaScript failed to load for some other reason).  You need to install the 3dmol extension: <br>\n        <tt>jupyter labextension install jupyterlab_3dmol</tt></p>\n        </div>\n<script>\n\nvar loadScriptAsync = function(uri){\n  return new Promise((resolve, reject) => {\n    var tag = document.createElement('script');\n    tag.src = uri;\n    tag.async = true;\n    tag.onload = () => {\n      resolve();\n    };\n  var firstScriptTag = document.getElementsByTagName('script')[0];\n  firstScriptTag.parentNode.insertBefore(tag, firstScriptTag);\n});\n};\n\nif(typeof $3Dmolpromise === 'undefined') {\n$3Dmolpromise = null;\n  $3Dmolpromise = loadScriptAsync('https://3dmol.org/build/3Dmol.js');\n}\n\nvar viewer_161423876500316 = null;\nvar warn = document.getElementById(\"3dmolwarning_161423876500316\");\nif(warn) {\n    warn.parentNode.removeChild(warn);\n}\n$3Dmolpromise.then(function() {\nviewer_161423876500316 = $3Dmol.createViewer($(\"#3dmolviewer_161423876500316\"),{backgroundColor:\"white\"});\nviewer_161423876500316.zoomTo();\n\tviewer_161423876500316.addModel(\"\\n     RDKit          3D\\n\\n  6  6  0  0  0  0  0  0  0  0999 V2000\\n   -0.3183    1.4640   -0.2197 N   0  0  0  0  0  0  0  0  0  4  0  0\\n   -1.2549    0.3817    0.0691 C   0  0  0  0  0  0  0  0  0  3  0  0\\n   -1.0011   -0.8791   -0.7457 C   0  0  0  0  0  0  0  0  0  2  0  0\\n    0.3183   -1.4640   -0.5239 N   0  0  0  0  0  0  0  0  0  1  0  0\\n    1.2889   -0.4447   -0.1354 C   0  0  0  0  0  0  0  0  0  6  0  0\\n    0.9671    0.9421   -0.6752 C   0  0  0  0  0  0  0  0  0  5  0  0\\n  1  2  1  0\\n  2  3  1  0\\n  3  4  1  0\\n  4  5  1  0\\n  5  6  1  0\\n  6  1  1  0\\nM  END\\n\",\"mol\");\n\tviewer_161423876500316.setStyle({\"stick\": {}});\n\tviewer_161423876500316.zoomTo();\nviewer_161423876500316.render();\n});\n</script>",
      "text/html": [
       "<div id=\"3dmolviewer_161423876500316\"  style=\"position: relative; width: 300px; height: 300px\">\n",
       "        <p id=\"3dmolwarning_161423876500316\" style=\"background-color:#ffcccc;color:black\">You appear to be running in JupyterLab (or JavaScript failed to load for some other reason).  You need to install the 3dmol extension: <br>\n",
       "        <tt>jupyter labextension install jupyterlab_3dmol</tt></p>\n",
       "        </div>\n",
       "<script>\n",
       "\n",
       "var loadScriptAsync = function(uri){\n",
       "  return new Promise((resolve, reject) => {\n",
       "    var tag = document.createElement('script');\n",
       "    tag.src = uri;\n",
       "    tag.async = true;\n",
       "    tag.onload = () => {\n",
       "      resolve();\n",
       "    };\n",
       "  var firstScriptTag = document.getElementsByTagName('script')[0];\n",
       "  firstScriptTag.parentNode.insertBefore(tag, firstScriptTag);\n",
       "});\n",
       "};\n",
       "\n",
       "if(typeof $3Dmolpromise === 'undefined') {\n",
       "$3Dmolpromise = null;\n",
       "  $3Dmolpromise = loadScriptAsync('https://3dmol.org/build/3Dmol.js');\n",
       "}\n",
       "\n",
       "var viewer_161423876500316 = null;\n",
       "var warn = document.getElementById(\"3dmolwarning_161423876500316\");\n",
       "if(warn) {\n",
       "    warn.parentNode.removeChild(warn);\n",
       "}\n",
       "$3Dmolpromise.then(function() {\n",
       "viewer_161423876500316 = $3Dmol.createViewer($(\"#3dmolviewer_161423876500316\"),{backgroundColor:\"white\"});\n",
       "viewer_161423876500316.zoomTo();\n",
       "\tviewer_161423876500316.addModel(\"\\n     RDKit          3D\\n\\n  6  6  0  0  0  0  0  0  0  0999 V2000\\n   -0.3183    1.4640   -0.2197 N   0  0  0  0  0  0  0  0  0  4  0  0\\n   -1.2549    0.3817    0.0691 C   0  0  0  0  0  0  0  0  0  3  0  0\\n   -1.0011   -0.8791   -0.7457 C   0  0  0  0  0  0  0  0  0  2  0  0\\n    0.3183   -1.4640   -0.5239 N   0  0  0  0  0  0  0  0  0  1  0  0\\n    1.2889   -0.4447   -0.1354 C   0  0  0  0  0  0  0  0  0  6  0  0\\n    0.9671    0.9421   -0.6752 C   0  0  0  0  0  0  0  0  0  5  0  0\\n  1  2  1  0\\n  2  3  1  0\\n  3  4  1  0\\n  4  5  1  0\\n  5  6  1  0\\n  6  1  1  0\\nM  END\\n\",\"mol\");\n",
       "\tviewer_161423876500316.setStyle({\"stick\": {}});\n",
       "\tviewer_161423876500316.zoomTo();\n",
       "viewer_161423876500316.render();\n",
       "});\n",
       "</script>"
      ]
     },
     "metadata": {},
     "output_type": "display_data"
    }
   ],
   "source": [
    "#collapse-hide\n",
    "from random import shuffle\n",
    "conf_idx = [i for i, c in enumerate(confs) if c == 'twisted']\n",
    "shuffle(conf_idx)\n",
    "\n",
    "viewer = py3Dmol.view(width=300, height=300)\n",
    "viewer.addModel(Chem.MolToMolBlock(mol, confId=conf_idx[0]), 'mol')\n",
    "viewer.setStyle({\"stick\":{}})\n",
    "viewer.zoomTo()\n",
    "viewer.show()"
   ]
  },
  {
   "cell_type": "markdown",
   "metadata": {},
   "source": [
    "# ETKDG version 3\n",
    "\n",
    "I commented this issue on Greg's blog and was suggested to try ETKDG version 3 algorithm [https://pubs.acs.org/doi/abs/10.1021/acs.jcim.0c00025](ref). Here's the result.  "
   ]
  },
  {
   "cell_type": "code",
   "execution_count": 332,
   "metadata": {},
   "outputs": [],
   "source": [
    "# ETKDG v3\n",
    "params = Chem.rdDistGeom.srETKDGv3() \n",
    "params.randomSeed = 0xf00d\n",
    "\n",
    "cids = AllChem.EmbedMultipleConfs(mol, numConfs=500, params=params)"
   ]
  },
  {
   "cell_type": "code",
   "execution_count": 333,
   "metadata": {},
   "outputs": [
    {
     "data": {
      "text/plain": [
       "Counter({'chair': 222, 'twisted': 195, 'boat': 83})"
      ]
     },
     "execution_count": 333,
     "metadata": {},
     "output_type": "execute_result"
    }
   ],
   "source": [
    "confs = ring_conformers(mol)\n",
    "Counter(confs)"
   ]
  },
  {
   "cell_type": "code",
   "execution_count": 334,
   "metadata": {},
   "outputs": [],
   "source": [
    "for conf in mol.GetConformers():\n",
    "    AllChem.MMFFOptimizeMolecule(mol, confId=conf.GetId())"
   ]
  },
  {
   "cell_type": "code",
   "execution_count": 335,
   "metadata": {},
   "outputs": [
    {
     "data": {
      "text/plain": [
       "Counter({'chair': 267, 'twisted': 233})"
      ]
     },
     "execution_count": 335,
     "metadata": {},
     "output_type": "execute_result"
    }
   ],
   "source": [
    "confs = ring_conformers(mol)\n",
    "Counter(confs)"
   ]
  },
  {
   "cell_type": "markdown",
   "metadata": {},
   "source": [
    "So, I got 222 chair (44%), 83 boat (16%), and 195 twisted (39%) conformers with just ETKDGv3 algorithm, but MMFF optimization slightly improved chair conformations. However, optimization also increased twisted conformations."
   ]
  },
  {
   "cell_type": "markdown",
   "metadata": {},
   "source": [
    "# Conclusion\n",
    "\n",
    "I have used piperazine as an example because the molecule I was working had one, but I imagine cyclohexane may have the similar issue. The new ETKDG v3 algorithm does a good job getting chair conformation without FF optimization, but I wish I could get chair conformation most of the time. I have not looked into how RDKit's ETKDG algorithm is implemented yet. If it is simple, I might be able to contribute. Otherwise, I can use the conformation checker I used here to filter out non-chair conformers."
   ]
  },
  {
   "cell_type": "code",
   "execution_count": null,
   "metadata": {},
   "outputs": [],
   "source": []
  }
 ],
 "metadata": {
  "kernelspec": {
   "display_name": "Python 3",
   "language": "python",
   "name": "python3"
  },
  "language_info": {
   "codemirror_mode": {
    "name": "ipython",
    "version": 3
   },
   "file_extension": ".py",
   "mimetype": "text/x-python",
   "name": "python",
   "nbconvert_exporter": "python",
   "pygments_lexer": "ipython3",
   "version": "3.7.4"
  }
 },
 "nbformat": 4,
 "nbformat_minor": 4
}
